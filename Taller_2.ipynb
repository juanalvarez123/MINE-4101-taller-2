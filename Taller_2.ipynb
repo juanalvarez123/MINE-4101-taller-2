{
  "nbformat": 4,
  "nbformat_minor": 0,
  "metadata": {
    "colab": {
      "provenance": [],
      "toc_visible": true,
      "collapsed_sections": []
    },
    "kernelspec": {
      "name": "python3",
      "display_name": "Python 3"
    },
    "language_info": {
      "name": "python"
    }
  },
  "cells": [
    {
      "cell_type": "markdown",
      "source": [
        "# Taller 2\n",
        "\n",
        "Juan Sebastian Alvarez Eraso\n",
        "\n",
        "Código: 201822427"
      ],
      "metadata": {
        "id": "p4-9WiUU5X8W"
      }
    },
    {
      "cell_type": "markdown",
      "source": [
        "## Inicio"
      ],
      "metadata": {
        "id": "3nUn7gml8CD8"
      }
    },
    {
      "cell_type": "markdown",
      "source": [
        "La alcaldía de una ciudad está interesada en implementar un nuevo servicio de patinetas para incentivar la movilidad sostenible y como parte de este proceso se encuentra evaluando la viabilidad económica e impacto de dicho servicio.\n",
        "\n",
        "Dado lo anterior, le ha encargado a la consultora Andes CDA el desarrollo de un modelo predictivo de la demanda de patinetas por día con base en datos de una ciudad vecina. Su objetivo como consultor de esta empresa es la creación del mejor modelo posible de regresión lineal que le permita predecir el número de usuarios promedio por día del nuevo servicio, al mismo tiempo de poder entender la importancia y relación de las variables consideradas."
      ],
      "metadata": {
        "id": "j1Yn91Xm8HlQ"
      }
    },
    {
      "cell_type": "code",
      "execution_count": 1,
      "metadata": {
        "id": "mACOI4kTUuEW"
      },
      "outputs": [],
      "source": [
        "# Setup\n",
        "RUTA_DEL_DATASET = 'https://raw.githubusercontent.com/juanalvarez123/MINE-4101-taller-2/main/Dataset/Data_Taller_2.csv'\n",
        "\n",
        "import pandas as pd\n",
        "import warnings\n",
        "\n",
        "# Configuración de pandas para extender el número de filas y columnas en la visualización\n",
        "pd.set_option('display.max_rows', 100)\n",
        "pd.set_option('display.max_columns', 100)\n",
        "# Deshabilitar warnings\n",
        "pd.options.mode.chained_assignment = None\n",
        "warnings.simplefilter(action='ignore', category=FutureWarning)"
      ]
    },
    {
      "cell_type": "markdown",
      "source": [
        "## Limpieza y preparación de los datos"
      ],
      "metadata": {
        "id": "Pa8C4PoS5iaG"
      }
    },
    {
      "cell_type": "code",
      "source": [
        "# Creo el dataset a partir de la data del archivo CSV\n",
        "df = pd.read_csv(RUTA_DEL_DATASET, sep=';')\n",
        "df.head()"
      ],
      "metadata": {
        "colab": {
          "base_uri": "https://localhost:8080/",
          "height": 206
        },
        "id": "VOf_OCUe5Hrw",
        "outputId": "22ca4234-53c3-466a-90df-e86dc3c240ce"
      },
      "execution_count": 2,
      "outputs": [
        {
          "output_type": "execute_result",
          "data": {
            "text/plain": [
              "   instant       Date    Season Holiday            Weather      Temp  \\\n",
              "0        1  1/01/2020  Springer      No      Mist + Cloudy  8,175849   \n",
              "1        2  2/01/2020  Springer      No      Mist + Cloudy  9,083466   \n",
              "2        3  3/01/2020  Springer      No         Few clouds  1,229108   \n",
              "3        4  4/01/2020  Springer      No         Few clouds       1,4   \n",
              "4        5  5/01/2020  Springer      No   Partly    cloudy  2,666979   \n",
              "\n",
              "  Feel_Temp       Hum        Wind  Casual  Registered   cnt  \n",
              "0  9,090375  0,805833   10,749882     331         654   985  \n",
              "1  8,625733  0,696087  -16,652113     131         670   801  \n",
              "2  0,902035  0,437273   16,636703     120        1229  1349  \n",
              "3  1,969734  0,590435   10,739832     108        1454  1562  \n",
              "4   2,77569  0,436957     12,5223      82        1518  1600  "
            ],
            "text/html": [
              "\n",
              "  <div id=\"df-d0d2be07-e4f4-47ec-9e86-08a16b4012dd\">\n",
              "    <div class=\"colab-df-container\">\n",
              "      <div>\n",
              "<style scoped>\n",
              "    .dataframe tbody tr th:only-of-type {\n",
              "        vertical-align: middle;\n",
              "    }\n",
              "\n",
              "    .dataframe tbody tr th {\n",
              "        vertical-align: top;\n",
              "    }\n",
              "\n",
              "    .dataframe thead th {\n",
              "        text-align: right;\n",
              "    }\n",
              "</style>\n",
              "<table border=\"1\" class=\"dataframe\">\n",
              "  <thead>\n",
              "    <tr style=\"text-align: right;\">\n",
              "      <th></th>\n",
              "      <th>instant</th>\n",
              "      <th>Date</th>\n",
              "      <th>Season</th>\n",
              "      <th>Holiday</th>\n",
              "      <th>Weather</th>\n",
              "      <th>Temp</th>\n",
              "      <th>Feel_Temp</th>\n",
              "      <th>Hum</th>\n",
              "      <th>Wind</th>\n",
              "      <th>Casual</th>\n",
              "      <th>Registered</th>\n",
              "      <th>cnt</th>\n",
              "    </tr>\n",
              "  </thead>\n",
              "  <tbody>\n",
              "    <tr>\n",
              "      <th>0</th>\n",
              "      <td>1</td>\n",
              "      <td>1/01/2020</td>\n",
              "      <td>Springer</td>\n",
              "      <td>No</td>\n",
              "      <td>Mist + Cloudy</td>\n",
              "      <td>8,175849</td>\n",
              "      <td>9,090375</td>\n",
              "      <td>0,805833</td>\n",
              "      <td>10,749882</td>\n",
              "      <td>331</td>\n",
              "      <td>654</td>\n",
              "      <td>985</td>\n",
              "    </tr>\n",
              "    <tr>\n",
              "      <th>1</th>\n",
              "      <td>2</td>\n",
              "      <td>2/01/2020</td>\n",
              "      <td>Springer</td>\n",
              "      <td>No</td>\n",
              "      <td>Mist + Cloudy</td>\n",
              "      <td>9,083466</td>\n",
              "      <td>8,625733</td>\n",
              "      <td>0,696087</td>\n",
              "      <td>-16,652113</td>\n",
              "      <td>131</td>\n",
              "      <td>670</td>\n",
              "      <td>801</td>\n",
              "    </tr>\n",
              "    <tr>\n",
              "      <th>2</th>\n",
              "      <td>3</td>\n",
              "      <td>3/01/2020</td>\n",
              "      <td>Springer</td>\n",
              "      <td>No</td>\n",
              "      <td>Few clouds</td>\n",
              "      <td>1,229108</td>\n",
              "      <td>0,902035</td>\n",
              "      <td>0,437273</td>\n",
              "      <td>16,636703</td>\n",
              "      <td>120</td>\n",
              "      <td>1229</td>\n",
              "      <td>1349</td>\n",
              "    </tr>\n",
              "    <tr>\n",
              "      <th>3</th>\n",
              "      <td>4</td>\n",
              "      <td>4/01/2020</td>\n",
              "      <td>Springer</td>\n",
              "      <td>No</td>\n",
              "      <td>Few clouds</td>\n",
              "      <td>1,4</td>\n",
              "      <td>1,969734</td>\n",
              "      <td>0,590435</td>\n",
              "      <td>10,739832</td>\n",
              "      <td>108</td>\n",
              "      <td>1454</td>\n",
              "      <td>1562</td>\n",
              "    </tr>\n",
              "    <tr>\n",
              "      <th>4</th>\n",
              "      <td>5</td>\n",
              "      <td>5/01/2020</td>\n",
              "      <td>Springer</td>\n",
              "      <td>No</td>\n",
              "      <td>Partly    cloudy</td>\n",
              "      <td>2,666979</td>\n",
              "      <td>2,77569</td>\n",
              "      <td>0,436957</td>\n",
              "      <td>12,5223</td>\n",
              "      <td>82</td>\n",
              "      <td>1518</td>\n",
              "      <td>1600</td>\n",
              "    </tr>\n",
              "  </tbody>\n",
              "</table>\n",
              "</div>\n",
              "      <button class=\"colab-df-convert\" onclick=\"convertToInteractive('df-d0d2be07-e4f4-47ec-9e86-08a16b4012dd')\"\n",
              "              title=\"Convert this dataframe to an interactive table.\"\n",
              "              style=\"display:none;\">\n",
              "        \n",
              "  <svg xmlns=\"http://www.w3.org/2000/svg\" height=\"24px\"viewBox=\"0 0 24 24\"\n",
              "       width=\"24px\">\n",
              "    <path d=\"M0 0h24v24H0V0z\" fill=\"none\"/>\n",
              "    <path d=\"M18.56 5.44l.94 2.06.94-2.06 2.06-.94-2.06-.94-.94-2.06-.94 2.06-2.06.94zm-11 1L8.5 8.5l.94-2.06 2.06-.94-2.06-.94L8.5 2.5l-.94 2.06-2.06.94zm10 10l.94 2.06.94-2.06 2.06-.94-2.06-.94-.94-2.06-.94 2.06-2.06.94z\"/><path d=\"M17.41 7.96l-1.37-1.37c-.4-.4-.92-.59-1.43-.59-.52 0-1.04.2-1.43.59L10.3 9.45l-7.72 7.72c-.78.78-.78 2.05 0 2.83L4 21.41c.39.39.9.59 1.41.59.51 0 1.02-.2 1.41-.59l7.78-7.78 2.81-2.81c.8-.78.8-2.07 0-2.86zM5.41 20L4 18.59l7.72-7.72 1.47 1.35L5.41 20z\"/>\n",
              "  </svg>\n",
              "      </button>\n",
              "      \n",
              "  <style>\n",
              "    .colab-df-container {\n",
              "      display:flex;\n",
              "      flex-wrap:wrap;\n",
              "      gap: 12px;\n",
              "    }\n",
              "\n",
              "    .colab-df-convert {\n",
              "      background-color: #E8F0FE;\n",
              "      border: none;\n",
              "      border-radius: 50%;\n",
              "      cursor: pointer;\n",
              "      display: none;\n",
              "      fill: #1967D2;\n",
              "      height: 32px;\n",
              "      padding: 0 0 0 0;\n",
              "      width: 32px;\n",
              "    }\n",
              "\n",
              "    .colab-df-convert:hover {\n",
              "      background-color: #E2EBFA;\n",
              "      box-shadow: 0px 1px 2px rgba(60, 64, 67, 0.3), 0px 1px 3px 1px rgba(60, 64, 67, 0.15);\n",
              "      fill: #174EA6;\n",
              "    }\n",
              "\n",
              "    [theme=dark] .colab-df-convert {\n",
              "      background-color: #3B4455;\n",
              "      fill: #D2E3FC;\n",
              "    }\n",
              "\n",
              "    [theme=dark] .colab-df-convert:hover {\n",
              "      background-color: #434B5C;\n",
              "      box-shadow: 0px 1px 3px 1px rgba(0, 0, 0, 0.15);\n",
              "      filter: drop-shadow(0px 1px 2px rgba(0, 0, 0, 0.3));\n",
              "      fill: #FFFFFF;\n",
              "    }\n",
              "  </style>\n",
              "\n",
              "      <script>\n",
              "        const buttonEl =\n",
              "          document.querySelector('#df-d0d2be07-e4f4-47ec-9e86-08a16b4012dd button.colab-df-convert');\n",
              "        buttonEl.style.display =\n",
              "          google.colab.kernel.accessAllowed ? 'block' : 'none';\n",
              "\n",
              "        async function convertToInteractive(key) {\n",
              "          const element = document.querySelector('#df-d0d2be07-e4f4-47ec-9e86-08a16b4012dd');\n",
              "          const dataTable =\n",
              "            await google.colab.kernel.invokeFunction('convertToInteractive',\n",
              "                                                     [key], {});\n",
              "          if (!dataTable) return;\n",
              "\n",
              "          const docLinkHtml = 'Like what you see? Visit the ' +\n",
              "            '<a target=\"_blank\" href=https://colab.research.google.com/notebooks/data_table.ipynb>data table notebook</a>'\n",
              "            + ' to learn more about interactive tables.';\n",
              "          element.innerHTML = '';\n",
              "          dataTable['output_type'] = 'display_data';\n",
              "          await google.colab.output.renderOutput(dataTable, element);\n",
              "          const docLink = document.createElement('div');\n",
              "          docLink.innerHTML = docLinkHtml;\n",
              "          element.appendChild(docLink);\n",
              "        }\n",
              "      </script>\n",
              "    </div>\n",
              "  </div>\n",
              "  "
            ]
          },
          "metadata": {},
          "execution_count": 2
        }
      ]
    },
    {
      "cell_type": "code",
      "source": [
        "# Verifico la cantidad de registros y de columnas\n",
        "df.shape"
      ],
      "metadata": {
        "colab": {
          "base_uri": "https://localhost:8080/"
        },
        "id": "r4FO3vcE6jNC",
        "outputId": "316eb79a-c185-40a8-d32a-7417fdeb51f4"
      },
      "execution_count": 3,
      "outputs": [
        {
          "output_type": "execute_result",
          "data": {
            "text/plain": [
              "(731, 12)"
            ]
          },
          "metadata": {},
          "execution_count": 3
        }
      ]
    },
    {
      "cell_type": "code",
      "source": [
        "# Verifico la cantidad de nulos\n",
        "df.isnull().sum()"
      ],
      "metadata": {
        "colab": {
          "base_uri": "https://localhost:8080/"
        },
        "id": "4DD6EhCt6CJT",
        "outputId": "1100bf6b-e24c-48e0-edb3-55c631db36c3"
      },
      "execution_count": 4,
      "outputs": [
        {
          "output_type": "execute_result",
          "data": {
            "text/plain": [
              "instant       0\n",
              "Date          0\n",
              "Season        0\n",
              "Holiday       0\n",
              "Weather       0\n",
              "Temp          4\n",
              "Feel_Temp     0\n",
              "Hum           0\n",
              "Wind          0\n",
              "Casual        0\n",
              "Registered    0\n",
              "cnt           0\n",
              "dtype: int64"
            ]
          },
          "metadata": {},
          "execution_count": 4
        }
      ]
    },
    {
      "cell_type": "markdown",
      "source": [
        "Hay 4 nulos para la columna \"Temp\"."
      ],
      "metadata": {
        "id": "fuMKqHQC6Jbv"
      }
    },
    {
      "cell_type": "code",
      "source": [
        "# Verifico los typos de datos de los features\n",
        "df.dtypes"
      ],
      "metadata": {
        "colab": {
          "base_uri": "https://localhost:8080/"
        },
        "id": "hgjiyNS26LUE",
        "outputId": "84598d35-71eb-47ea-f2d0-ec815249840c"
      },
      "execution_count": 5,
      "outputs": [
        {
          "output_type": "execute_result",
          "data": {
            "text/plain": [
              "instant        int64\n",
              "Date          object\n",
              "Season        object\n",
              "Holiday       object\n",
              "Weather       object\n",
              "Temp          object\n",
              "Feel_Temp     object\n",
              "Hum           object\n",
              "Wind          object\n",
              "Casual         int64\n",
              "Registered     int64\n",
              "cnt            int64\n",
              "dtype: object"
            ]
          },
          "metadata": {},
          "execution_count": 5
        }
      ]
    },
    {
      "cell_type": "markdown",
      "source": [
        "Para revisar:\n",
        "* La columna \"Date\" contiene una fecha y su tipo de dato es \"object\".\n",
        "* Las columnas \"Temp\", \"Feel_Temp\", \"Hum\" y \"Wind\" contienen datos numéricos pero su tipo de dato es un \"object\"."
      ],
      "metadata": {
        "id": "8DdtGCDu6vsr"
      }
    },
    {
      "cell_type": "code",
      "source": [
        "# Puede que al ser tipo de dato \"object\" existan valores vacíos y no aparecieron\n",
        "# anteriormente como nulos, procedo a verificar\n",
        "df[(df['Date'] == '') |\n",
        "   (df['Season'] == '') |\n",
        "   (df['Holiday'] == '') |\n",
        "   (df['Weather'] == '') |\n",
        "   (df['Temp'] == '') |\n",
        "   (df['Feel_Temp'] == '') |\n",
        "   (df['Hum'] == '') |\n",
        "   (df['Wind'] == '')]"
      ],
      "metadata": {
        "colab": {
          "base_uri": "https://localhost:8080/",
          "height": 49
        },
        "id": "k_syY0Wp7QPi",
        "outputId": "f0fd01da-39b4-476e-9867-fc29041003be"
      },
      "execution_count": 6,
      "outputs": [
        {
          "output_type": "execute_result",
          "data": {
            "text/plain": [
              "Empty DataFrame\n",
              "Columns: [instant, Date, Season, Holiday, Weather, Temp, Feel_Temp, Hum, Wind, Casual, Registered, cnt]\n",
              "Index: []"
            ],
            "text/html": [
              "\n",
              "  <div id=\"df-c638e80e-b13d-4c91-8f02-67961b9f88f7\">\n",
              "    <div class=\"colab-df-container\">\n",
              "      <div>\n",
              "<style scoped>\n",
              "    .dataframe tbody tr th:only-of-type {\n",
              "        vertical-align: middle;\n",
              "    }\n",
              "\n",
              "    .dataframe tbody tr th {\n",
              "        vertical-align: top;\n",
              "    }\n",
              "\n",
              "    .dataframe thead th {\n",
              "        text-align: right;\n",
              "    }\n",
              "</style>\n",
              "<table border=\"1\" class=\"dataframe\">\n",
              "  <thead>\n",
              "    <tr style=\"text-align: right;\">\n",
              "      <th></th>\n",
              "      <th>instant</th>\n",
              "      <th>Date</th>\n",
              "      <th>Season</th>\n",
              "      <th>Holiday</th>\n",
              "      <th>Weather</th>\n",
              "      <th>Temp</th>\n",
              "      <th>Feel_Temp</th>\n",
              "      <th>Hum</th>\n",
              "      <th>Wind</th>\n",
              "      <th>Casual</th>\n",
              "      <th>Registered</th>\n",
              "      <th>cnt</th>\n",
              "    </tr>\n",
              "  </thead>\n",
              "  <tbody>\n",
              "  </tbody>\n",
              "</table>\n",
              "</div>\n",
              "      <button class=\"colab-df-convert\" onclick=\"convertToInteractive('df-c638e80e-b13d-4c91-8f02-67961b9f88f7')\"\n",
              "              title=\"Convert this dataframe to an interactive table.\"\n",
              "              style=\"display:none;\">\n",
              "        \n",
              "  <svg xmlns=\"http://www.w3.org/2000/svg\" height=\"24px\"viewBox=\"0 0 24 24\"\n",
              "       width=\"24px\">\n",
              "    <path d=\"M0 0h24v24H0V0z\" fill=\"none\"/>\n",
              "    <path d=\"M18.56 5.44l.94 2.06.94-2.06 2.06-.94-2.06-.94-.94-2.06-.94 2.06-2.06.94zm-11 1L8.5 8.5l.94-2.06 2.06-.94-2.06-.94L8.5 2.5l-.94 2.06-2.06.94zm10 10l.94 2.06.94-2.06 2.06-.94-2.06-.94-.94-2.06-.94 2.06-2.06.94z\"/><path d=\"M17.41 7.96l-1.37-1.37c-.4-.4-.92-.59-1.43-.59-.52 0-1.04.2-1.43.59L10.3 9.45l-7.72 7.72c-.78.78-.78 2.05 0 2.83L4 21.41c.39.39.9.59 1.41.59.51 0 1.02-.2 1.41-.59l7.78-7.78 2.81-2.81c.8-.78.8-2.07 0-2.86zM5.41 20L4 18.59l7.72-7.72 1.47 1.35L5.41 20z\"/>\n",
              "  </svg>\n",
              "      </button>\n",
              "      \n",
              "  <style>\n",
              "    .colab-df-container {\n",
              "      display:flex;\n",
              "      flex-wrap:wrap;\n",
              "      gap: 12px;\n",
              "    }\n",
              "\n",
              "    .colab-df-convert {\n",
              "      background-color: #E8F0FE;\n",
              "      border: none;\n",
              "      border-radius: 50%;\n",
              "      cursor: pointer;\n",
              "      display: none;\n",
              "      fill: #1967D2;\n",
              "      height: 32px;\n",
              "      padding: 0 0 0 0;\n",
              "      width: 32px;\n",
              "    }\n",
              "\n",
              "    .colab-df-convert:hover {\n",
              "      background-color: #E2EBFA;\n",
              "      box-shadow: 0px 1px 2px rgba(60, 64, 67, 0.3), 0px 1px 3px 1px rgba(60, 64, 67, 0.15);\n",
              "      fill: #174EA6;\n",
              "    }\n",
              "\n",
              "    [theme=dark] .colab-df-convert {\n",
              "      background-color: #3B4455;\n",
              "      fill: #D2E3FC;\n",
              "    }\n",
              "\n",
              "    [theme=dark] .colab-df-convert:hover {\n",
              "      background-color: #434B5C;\n",
              "      box-shadow: 0px 1px 3px 1px rgba(0, 0, 0, 0.15);\n",
              "      filter: drop-shadow(0px 1px 2px rgba(0, 0, 0, 0.3));\n",
              "      fill: #FFFFFF;\n",
              "    }\n",
              "  </style>\n",
              "\n",
              "      <script>\n",
              "        const buttonEl =\n",
              "          document.querySelector('#df-c638e80e-b13d-4c91-8f02-67961b9f88f7 button.colab-df-convert');\n",
              "        buttonEl.style.display =\n",
              "          google.colab.kernel.accessAllowed ? 'block' : 'none';\n",
              "\n",
              "        async function convertToInteractive(key) {\n",
              "          const element = document.querySelector('#df-c638e80e-b13d-4c91-8f02-67961b9f88f7');\n",
              "          const dataTable =\n",
              "            await google.colab.kernel.invokeFunction('convertToInteractive',\n",
              "                                                     [key], {});\n",
              "          if (!dataTable) return;\n",
              "\n",
              "          const docLinkHtml = 'Like what you see? Visit the ' +\n",
              "            '<a target=\"_blank\" href=https://colab.research.google.com/notebooks/data_table.ipynb>data table notebook</a>'\n",
              "            + ' to learn more about interactive tables.';\n",
              "          element.innerHTML = '';\n",
              "          dataTable['output_type'] = 'display_data';\n",
              "          await google.colab.output.renderOutput(dataTable, element);\n",
              "          const docLink = document.createElement('div');\n",
              "          docLink.innerHTML = docLinkHtml;\n",
              "          element.appendChild(docLink);\n",
              "        }\n",
              "      </script>\n",
              "    </div>\n",
              "  </div>\n",
              "  "
            ]
          },
          "metadata": {},
          "execution_count": 6
        }
      ]
    },
    {
      "cell_type": "markdown",
      "source": [
        "No hay columnas que contengan datos vacíos, se puede continuar."
      ],
      "metadata": {
        "id": "q2gUDcdv7_Zp"
      }
    },
    {
      "cell_type": "code",
      "source": [
        "# Verifico si la columa \"instant\" se refiere al mismo índice del dataset.\n",
        "# Para eso creo una columna temporal que me registre el índice del dataset.\n",
        "df['tmp_index'] = range(1, len(df) + 1)\n",
        "\n",
        "# Y luego verifico la correlación de estas dos columnas\n",
        "df[['instant', 'tmp_index']].corr()"
      ],
      "metadata": {
        "colab": {
          "base_uri": "https://localhost:8080/",
          "height": 112
        },
        "id": "gX7UfSKu8Qb6",
        "outputId": "be0a07d1-4815-4e98-e37a-10427ba96b48"
      },
      "execution_count": 7,
      "outputs": [
        {
          "output_type": "execute_result",
          "data": {
            "text/plain": [
              "           instant  tmp_index\n",
              "instant        1.0        1.0\n",
              "tmp_index      1.0        1.0"
            ],
            "text/html": [
              "\n",
              "  <div id=\"df-f806ca15-fb6c-4072-ab5f-90b4d55cf8b6\">\n",
              "    <div class=\"colab-df-container\">\n",
              "      <div>\n",
              "<style scoped>\n",
              "    .dataframe tbody tr th:only-of-type {\n",
              "        vertical-align: middle;\n",
              "    }\n",
              "\n",
              "    .dataframe tbody tr th {\n",
              "        vertical-align: top;\n",
              "    }\n",
              "\n",
              "    .dataframe thead th {\n",
              "        text-align: right;\n",
              "    }\n",
              "</style>\n",
              "<table border=\"1\" class=\"dataframe\">\n",
              "  <thead>\n",
              "    <tr style=\"text-align: right;\">\n",
              "      <th></th>\n",
              "      <th>instant</th>\n",
              "      <th>tmp_index</th>\n",
              "    </tr>\n",
              "  </thead>\n",
              "  <tbody>\n",
              "    <tr>\n",
              "      <th>instant</th>\n",
              "      <td>1.0</td>\n",
              "      <td>1.0</td>\n",
              "    </tr>\n",
              "    <tr>\n",
              "      <th>tmp_index</th>\n",
              "      <td>1.0</td>\n",
              "      <td>1.0</td>\n",
              "    </tr>\n",
              "  </tbody>\n",
              "</table>\n",
              "</div>\n",
              "      <button class=\"colab-df-convert\" onclick=\"convertToInteractive('df-f806ca15-fb6c-4072-ab5f-90b4d55cf8b6')\"\n",
              "              title=\"Convert this dataframe to an interactive table.\"\n",
              "              style=\"display:none;\">\n",
              "        \n",
              "  <svg xmlns=\"http://www.w3.org/2000/svg\" height=\"24px\"viewBox=\"0 0 24 24\"\n",
              "       width=\"24px\">\n",
              "    <path d=\"M0 0h24v24H0V0z\" fill=\"none\"/>\n",
              "    <path d=\"M18.56 5.44l.94 2.06.94-2.06 2.06-.94-2.06-.94-.94-2.06-.94 2.06-2.06.94zm-11 1L8.5 8.5l.94-2.06 2.06-.94-2.06-.94L8.5 2.5l-.94 2.06-2.06.94zm10 10l.94 2.06.94-2.06 2.06-.94-2.06-.94-.94-2.06-.94 2.06-2.06.94z\"/><path d=\"M17.41 7.96l-1.37-1.37c-.4-.4-.92-.59-1.43-.59-.52 0-1.04.2-1.43.59L10.3 9.45l-7.72 7.72c-.78.78-.78 2.05 0 2.83L4 21.41c.39.39.9.59 1.41.59.51 0 1.02-.2 1.41-.59l7.78-7.78 2.81-2.81c.8-.78.8-2.07 0-2.86zM5.41 20L4 18.59l7.72-7.72 1.47 1.35L5.41 20z\"/>\n",
              "  </svg>\n",
              "      </button>\n",
              "      \n",
              "  <style>\n",
              "    .colab-df-container {\n",
              "      display:flex;\n",
              "      flex-wrap:wrap;\n",
              "      gap: 12px;\n",
              "    }\n",
              "\n",
              "    .colab-df-convert {\n",
              "      background-color: #E8F0FE;\n",
              "      border: none;\n",
              "      border-radius: 50%;\n",
              "      cursor: pointer;\n",
              "      display: none;\n",
              "      fill: #1967D2;\n",
              "      height: 32px;\n",
              "      padding: 0 0 0 0;\n",
              "      width: 32px;\n",
              "    }\n",
              "\n",
              "    .colab-df-convert:hover {\n",
              "      background-color: #E2EBFA;\n",
              "      box-shadow: 0px 1px 2px rgba(60, 64, 67, 0.3), 0px 1px 3px 1px rgba(60, 64, 67, 0.15);\n",
              "      fill: #174EA6;\n",
              "    }\n",
              "\n",
              "    [theme=dark] .colab-df-convert {\n",
              "      background-color: #3B4455;\n",
              "      fill: #D2E3FC;\n",
              "    }\n",
              "\n",
              "    [theme=dark] .colab-df-convert:hover {\n",
              "      background-color: #434B5C;\n",
              "      box-shadow: 0px 1px 3px 1px rgba(0, 0, 0, 0.15);\n",
              "      filter: drop-shadow(0px 1px 2px rgba(0, 0, 0, 0.3));\n",
              "      fill: #FFFFFF;\n",
              "    }\n",
              "  </style>\n",
              "\n",
              "      <script>\n",
              "        const buttonEl =\n",
              "          document.querySelector('#df-f806ca15-fb6c-4072-ab5f-90b4d55cf8b6 button.colab-df-convert');\n",
              "        buttonEl.style.display =\n",
              "          google.colab.kernel.accessAllowed ? 'block' : 'none';\n",
              "\n",
              "        async function convertToInteractive(key) {\n",
              "          const element = document.querySelector('#df-f806ca15-fb6c-4072-ab5f-90b4d55cf8b6');\n",
              "          const dataTable =\n",
              "            await google.colab.kernel.invokeFunction('convertToInteractive',\n",
              "                                                     [key], {});\n",
              "          if (!dataTable) return;\n",
              "\n",
              "          const docLinkHtml = 'Like what you see? Visit the ' +\n",
              "            '<a target=\"_blank\" href=https://colab.research.google.com/notebooks/data_table.ipynb>data table notebook</a>'\n",
              "            + ' to learn more about interactive tables.';\n",
              "          element.innerHTML = '';\n",
              "          dataTable['output_type'] = 'display_data';\n",
              "          await google.colab.output.renderOutput(dataTable, element);\n",
              "          const docLink = document.createElement('div');\n",
              "          docLink.innerHTML = docLinkHtml;\n",
              "          element.appendChild(docLink);\n",
              "        }\n",
              "      </script>\n",
              "    </div>\n",
              "  </div>\n",
              "  "
            ]
          },
          "metadata": {},
          "execution_count": 7
        }
      ]
    },
    {
      "cell_type": "markdown",
      "source": [
        "Se puede ver que la correlación de estas 2 columnas es de 1, lo que quiere decir que efectivamente la columna \"instant\" corresponde al índice del dataset."
      ],
      "metadata": {
        "id": "eQQSrg3582w8"
      }
    },
    {
      "cell_type": "code",
      "source": [
        "# Verifico los valores únicos de la columna \"Holiday\"\n",
        "df['Holiday'].unique()"
      ],
      "metadata": {
        "colab": {
          "base_uri": "https://localhost:8080/"
        },
        "id": "sz2SaRwD9Ccw",
        "outputId": "880e5ae7-ee53-4f47-fffa-c7be54e1fc8b"
      },
      "execution_count": 8,
      "outputs": [
        {
          "output_type": "execute_result",
          "data": {
            "text/plain": [
              "array(['No', 'Yes'], dtype=object)"
            ]
          },
          "metadata": {},
          "execution_count": 8
        }
      ]
    },
    {
      "cell_type": "code",
      "source": [
        "# Verifico los valores únicos de la columna \"Weather\"\n",
        "df['Weather'].unique()"
      ],
      "metadata": {
        "colab": {
          "base_uri": "https://localhost:8080/"
        },
        "id": "a-5pRA409pgs",
        "outputId": "633669d8-0416-42e7-d78b-40967c956353"
      },
      "execution_count": 9,
      "outputs": [
        {
          "output_type": "execute_result",
          "data": {
            "text/plain": [
              "array(['Mist + Cloudy', 'Few clouds', ' Partly    cloudy', 'Clear',\n",
              "       'Mist', 'Mist + Broken clouds', ' Partly cloudy',\n",
              "       'Mist + Few clouds', 'Rain + Thunderstorm',\n",
              "       'Light Rain + Scattered clouds', 'Snow'], dtype=object)"
            ]
          },
          "metadata": {},
          "execution_count": 9
        }
      ]
    },
    {
      "cell_type": "markdown",
      "source": [
        "Se puede ver que hay 2 valores parecidos: ' Partly&nbsp;&nbsp;&nbsp;&nbsp;cloudy' y ' Partly cloudy', la diferencia solo está en sus espacios internos y externos. Es buena idea unificarlos siguiendo las recomendaciones del meteorólogo."
      ],
      "metadata": {
        "id": "tsUOtmbx99oO"
      }
    },
    {
      "cell_type": "markdown",
      "source": [
        "Por lo visto anteriormente he tomado las siguientes determinaciones:\n",
        "1. Cambiar el tipo de dato de la columna \"Date\" para que soporte una fecha. Me permitirá trabajar mejor y obtener más información que con un \"object\". También verificar si hay duplicados.\n",
        "2. A partir de la fecha corregida obtengo el año, mes y día de la semana por cada registro. El feature \"Date\" ya no es necesario en mi modelo.\n",
        "3. Cambiar el tipo de dato de las columnas \"Temp\", \"Feel_Temp\", \"Hum\" y \"Wind\". Estas contienen valores numéricos.\n",
        "4. Completar los datos nulos de la columna \"Temp\" con la media de la columna.\n",
        "5. La columna \"instant\" se puede eliminar, se comprobó que efectivamente correspondía al mismo índice. También se puede eliminar la columna \"tmp_index\" que se creó de forma temporal.\n",
        "6. Cambiar los valores y el tipo de dato de la columna \"Holiday\". Es mejor trabajar con un dato cuantitativo antes que con un categórico.\n",
        "7. Unifico los valores de \"Weather\" según la recomendación del meteorólogo."
      ],
      "metadata": {
        "id": "TjCPYGko-Kck"
      }
    },
    {
      "cell_type": "code",
      "source": [
        "# 1. Cambiar el tipo de dato de la columna \"Date\" para que soporte una fecha.\n",
        "\n",
        "# Se utiliza el parámetro errors='coerce' para evitar que la conversión falle\n",
        "df['Date'] = pd.to_datetime(df['Date'], format='%d/%m/%Y', errors='coerce')\n",
        "\n",
        "# Se imprime el registro que tuvo la fecha mal\n",
        "df[df['Date'].isnull()]"
      ],
      "metadata": {
        "colab": {
          "base_uri": "https://localhost:8080/",
          "height": 81
        },
        "id": "S7R1ZMhjKIKz",
        "outputId": "3bc6bdd9-da4a-4232-e5a3-8e831869c588"
      },
      "execution_count": 10,
      "outputs": [
        {
          "output_type": "execute_result",
          "data": {
            "text/plain": [
              "     instant Date    Season Holiday Weather      Temp Feel_Temp       Hum  \\\n",
              "424      425  NaT  Springer      No    Mist  8,184356   8,37809  0,804783   \n",
              "\n",
              "          Wind  Casual  Registered   cnt  tmp_index  \n",
              "424  12,000839      65        1769  1834        425  "
            ],
            "text/html": [
              "\n",
              "  <div id=\"df-cdcb3beb-c276-4580-a475-5c2fc0c5a886\">\n",
              "    <div class=\"colab-df-container\">\n",
              "      <div>\n",
              "<style scoped>\n",
              "    .dataframe tbody tr th:only-of-type {\n",
              "        vertical-align: middle;\n",
              "    }\n",
              "\n",
              "    .dataframe tbody tr th {\n",
              "        vertical-align: top;\n",
              "    }\n",
              "\n",
              "    .dataframe thead th {\n",
              "        text-align: right;\n",
              "    }\n",
              "</style>\n",
              "<table border=\"1\" class=\"dataframe\">\n",
              "  <thead>\n",
              "    <tr style=\"text-align: right;\">\n",
              "      <th></th>\n",
              "      <th>instant</th>\n",
              "      <th>Date</th>\n",
              "      <th>Season</th>\n",
              "      <th>Holiday</th>\n",
              "      <th>Weather</th>\n",
              "      <th>Temp</th>\n",
              "      <th>Feel_Temp</th>\n",
              "      <th>Hum</th>\n",
              "      <th>Wind</th>\n",
              "      <th>Casual</th>\n",
              "      <th>Registered</th>\n",
              "      <th>cnt</th>\n",
              "      <th>tmp_index</th>\n",
              "    </tr>\n",
              "  </thead>\n",
              "  <tbody>\n",
              "    <tr>\n",
              "      <th>424</th>\n",
              "      <td>425</td>\n",
              "      <td>NaT</td>\n",
              "      <td>Springer</td>\n",
              "      <td>No</td>\n",
              "      <td>Mist</td>\n",
              "      <td>8,184356</td>\n",
              "      <td>8,37809</td>\n",
              "      <td>0,804783</td>\n",
              "      <td>12,000839</td>\n",
              "      <td>65</td>\n",
              "      <td>1769</td>\n",
              "      <td>1834</td>\n",
              "      <td>425</td>\n",
              "    </tr>\n",
              "  </tbody>\n",
              "</table>\n",
              "</div>\n",
              "      <button class=\"colab-df-convert\" onclick=\"convertToInteractive('df-cdcb3beb-c276-4580-a475-5c2fc0c5a886')\"\n",
              "              title=\"Convert this dataframe to an interactive table.\"\n",
              "              style=\"display:none;\">\n",
              "        \n",
              "  <svg xmlns=\"http://www.w3.org/2000/svg\" height=\"24px\"viewBox=\"0 0 24 24\"\n",
              "       width=\"24px\">\n",
              "    <path d=\"M0 0h24v24H0V0z\" fill=\"none\"/>\n",
              "    <path d=\"M18.56 5.44l.94 2.06.94-2.06 2.06-.94-2.06-.94-.94-2.06-.94 2.06-2.06.94zm-11 1L8.5 8.5l.94-2.06 2.06-.94-2.06-.94L8.5 2.5l-.94 2.06-2.06.94zm10 10l.94 2.06.94-2.06 2.06-.94-2.06-.94-.94-2.06-.94 2.06-2.06.94z\"/><path d=\"M17.41 7.96l-1.37-1.37c-.4-.4-.92-.59-1.43-.59-.52 0-1.04.2-1.43.59L10.3 9.45l-7.72 7.72c-.78.78-.78 2.05 0 2.83L4 21.41c.39.39.9.59 1.41.59.51 0 1.02-.2 1.41-.59l7.78-7.78 2.81-2.81c.8-.78.8-2.07 0-2.86zM5.41 20L4 18.59l7.72-7.72 1.47 1.35L5.41 20z\"/>\n",
              "  </svg>\n",
              "      </button>\n",
              "      \n",
              "  <style>\n",
              "    .colab-df-container {\n",
              "      display:flex;\n",
              "      flex-wrap:wrap;\n",
              "      gap: 12px;\n",
              "    }\n",
              "\n",
              "    .colab-df-convert {\n",
              "      background-color: #E8F0FE;\n",
              "      border: none;\n",
              "      border-radius: 50%;\n",
              "      cursor: pointer;\n",
              "      display: none;\n",
              "      fill: #1967D2;\n",
              "      height: 32px;\n",
              "      padding: 0 0 0 0;\n",
              "      width: 32px;\n",
              "    }\n",
              "\n",
              "    .colab-df-convert:hover {\n",
              "      background-color: #E2EBFA;\n",
              "      box-shadow: 0px 1px 2px rgba(60, 64, 67, 0.3), 0px 1px 3px 1px rgba(60, 64, 67, 0.15);\n",
              "      fill: #174EA6;\n",
              "    }\n",
              "\n",
              "    [theme=dark] .colab-df-convert {\n",
              "      background-color: #3B4455;\n",
              "      fill: #D2E3FC;\n",
              "    }\n",
              "\n",
              "    [theme=dark] .colab-df-convert:hover {\n",
              "      background-color: #434B5C;\n",
              "      box-shadow: 0px 1px 3px 1px rgba(0, 0, 0, 0.15);\n",
              "      filter: drop-shadow(0px 1px 2px rgba(0, 0, 0, 0.3));\n",
              "      fill: #FFFFFF;\n",
              "    }\n",
              "  </style>\n",
              "\n",
              "      <script>\n",
              "        const buttonEl =\n",
              "          document.querySelector('#df-cdcb3beb-c276-4580-a475-5c2fc0c5a886 button.colab-df-convert');\n",
              "        buttonEl.style.display =\n",
              "          google.colab.kernel.accessAllowed ? 'block' : 'none';\n",
              "\n",
              "        async function convertToInteractive(key) {\n",
              "          const element = document.querySelector('#df-cdcb3beb-c276-4580-a475-5c2fc0c5a886');\n",
              "          const dataTable =\n",
              "            await google.colab.kernel.invokeFunction('convertToInteractive',\n",
              "                                                     [key], {});\n",
              "          if (!dataTable) return;\n",
              "\n",
              "          const docLinkHtml = 'Like what you see? Visit the ' +\n",
              "            '<a target=\"_blank\" href=https://colab.research.google.com/notebooks/data_table.ipynb>data table notebook</a>'\n",
              "            + ' to learn more about interactive tables.';\n",
              "          element.innerHTML = '';\n",
              "          dataTable['output_type'] = 'display_data';\n",
              "          await google.colab.output.renderOutput(dataTable, element);\n",
              "          const docLink = document.createElement('div');\n",
              "          docLink.innerHTML = docLinkHtml;\n",
              "          element.appendChild(docLink);\n",
              "        }\n",
              "      </script>\n",
              "    </div>\n",
              "  </div>\n",
              "  "
            ]
          },
          "metadata": {},
          "execution_count": 10
        }
      ]
    },
    {
      "cell_type": "markdown",
      "source": [
        "Al revisarlo en el dataset se observa que contenía la fecha 29/02/2021 y esa fecha no existe; febrero en el 2021 solo tuvo 28 días.\n",
        "\n",
        "Para no eliminar el registro he decidido colocarle la fecha correcta del siguiente día, es decir, el 01/03/2021."
      ],
      "metadata": {
        "id": "jI059ZdnMK2E"
      }
    },
    {
      "cell_type": "code",
      "source": [
        "df.loc[df['Date'].isnull(), 'Date'] = pd.to_datetime('01/03/2021', format='%d/%m/%Y')\n",
        "\n",
        "# Imprimo nuevamente si hay registros con fechas incorrectas\n",
        "df[df['Date'].isnull()]"
      ],
      "metadata": {
        "colab": {
          "base_uri": "https://localhost:8080/",
          "height": 49
        },
        "id": "tx9mtSPuMfXq",
        "outputId": "89c040f3-0607-48db-d300-333960f0cdba"
      },
      "execution_count": 11,
      "outputs": [
        {
          "output_type": "execute_result",
          "data": {
            "text/plain": [
              "Empty DataFrame\n",
              "Columns: [instant, Date, Season, Holiday, Weather, Temp, Feel_Temp, Hum, Wind, Casual, Registered, cnt, tmp_index]\n",
              "Index: []"
            ],
            "text/html": [
              "\n",
              "  <div id=\"df-0c8b2a65-5d28-4429-ab9b-23187f0f9970\">\n",
              "    <div class=\"colab-df-container\">\n",
              "      <div>\n",
              "<style scoped>\n",
              "    .dataframe tbody tr th:only-of-type {\n",
              "        vertical-align: middle;\n",
              "    }\n",
              "\n",
              "    .dataframe tbody tr th {\n",
              "        vertical-align: top;\n",
              "    }\n",
              "\n",
              "    .dataframe thead th {\n",
              "        text-align: right;\n",
              "    }\n",
              "</style>\n",
              "<table border=\"1\" class=\"dataframe\">\n",
              "  <thead>\n",
              "    <tr style=\"text-align: right;\">\n",
              "      <th></th>\n",
              "      <th>instant</th>\n",
              "      <th>Date</th>\n",
              "      <th>Season</th>\n",
              "      <th>Holiday</th>\n",
              "      <th>Weather</th>\n",
              "      <th>Temp</th>\n",
              "      <th>Feel_Temp</th>\n",
              "      <th>Hum</th>\n",
              "      <th>Wind</th>\n",
              "      <th>Casual</th>\n",
              "      <th>Registered</th>\n",
              "      <th>cnt</th>\n",
              "      <th>tmp_index</th>\n",
              "    </tr>\n",
              "  </thead>\n",
              "  <tbody>\n",
              "  </tbody>\n",
              "</table>\n",
              "</div>\n",
              "      <button class=\"colab-df-convert\" onclick=\"convertToInteractive('df-0c8b2a65-5d28-4429-ab9b-23187f0f9970')\"\n",
              "              title=\"Convert this dataframe to an interactive table.\"\n",
              "              style=\"display:none;\">\n",
              "        \n",
              "  <svg xmlns=\"http://www.w3.org/2000/svg\" height=\"24px\"viewBox=\"0 0 24 24\"\n",
              "       width=\"24px\">\n",
              "    <path d=\"M0 0h24v24H0V0z\" fill=\"none\"/>\n",
              "    <path d=\"M18.56 5.44l.94 2.06.94-2.06 2.06-.94-2.06-.94-.94-2.06-.94 2.06-2.06.94zm-11 1L8.5 8.5l.94-2.06 2.06-.94-2.06-.94L8.5 2.5l-.94 2.06-2.06.94zm10 10l.94 2.06.94-2.06 2.06-.94-2.06-.94-.94-2.06-.94 2.06-2.06.94z\"/><path d=\"M17.41 7.96l-1.37-1.37c-.4-.4-.92-.59-1.43-.59-.52 0-1.04.2-1.43.59L10.3 9.45l-7.72 7.72c-.78.78-.78 2.05 0 2.83L4 21.41c.39.39.9.59 1.41.59.51 0 1.02-.2 1.41-.59l7.78-7.78 2.81-2.81c.8-.78.8-2.07 0-2.86zM5.41 20L4 18.59l7.72-7.72 1.47 1.35L5.41 20z\"/>\n",
              "  </svg>\n",
              "      </button>\n",
              "      \n",
              "  <style>\n",
              "    .colab-df-container {\n",
              "      display:flex;\n",
              "      flex-wrap:wrap;\n",
              "      gap: 12px;\n",
              "    }\n",
              "\n",
              "    .colab-df-convert {\n",
              "      background-color: #E8F0FE;\n",
              "      border: none;\n",
              "      border-radius: 50%;\n",
              "      cursor: pointer;\n",
              "      display: none;\n",
              "      fill: #1967D2;\n",
              "      height: 32px;\n",
              "      padding: 0 0 0 0;\n",
              "      width: 32px;\n",
              "    }\n",
              "\n",
              "    .colab-df-convert:hover {\n",
              "      background-color: #E2EBFA;\n",
              "      box-shadow: 0px 1px 2px rgba(60, 64, 67, 0.3), 0px 1px 3px 1px rgba(60, 64, 67, 0.15);\n",
              "      fill: #174EA6;\n",
              "    }\n",
              "\n",
              "    [theme=dark] .colab-df-convert {\n",
              "      background-color: #3B4455;\n",
              "      fill: #D2E3FC;\n",
              "    }\n",
              "\n",
              "    [theme=dark] .colab-df-convert:hover {\n",
              "      background-color: #434B5C;\n",
              "      box-shadow: 0px 1px 3px 1px rgba(0, 0, 0, 0.15);\n",
              "      filter: drop-shadow(0px 1px 2px rgba(0, 0, 0, 0.3));\n",
              "      fill: #FFFFFF;\n",
              "    }\n",
              "  </style>\n",
              "\n",
              "      <script>\n",
              "        const buttonEl =\n",
              "          document.querySelector('#df-0c8b2a65-5d28-4429-ab9b-23187f0f9970 button.colab-df-convert');\n",
              "        buttonEl.style.display =\n",
              "          google.colab.kernel.accessAllowed ? 'block' : 'none';\n",
              "\n",
              "        async function convertToInteractive(key) {\n",
              "          const element = document.querySelector('#df-0c8b2a65-5d28-4429-ab9b-23187f0f9970');\n",
              "          const dataTable =\n",
              "            await google.colab.kernel.invokeFunction('convertToInteractive',\n",
              "                                                     [key], {});\n",
              "          if (!dataTable) return;\n",
              "\n",
              "          const docLinkHtml = 'Like what you see? Visit the ' +\n",
              "            '<a target=\"_blank\" href=https://colab.research.google.com/notebooks/data_table.ipynb>data table notebook</a>'\n",
              "            + ' to learn more about interactive tables.';\n",
              "          element.innerHTML = '';\n",
              "          dataTable['output_type'] = 'display_data';\n",
              "          await google.colab.output.renderOutput(dataTable, element);\n",
              "          const docLink = document.createElement('div');\n",
              "          docLink.innerHTML = docLinkHtml;\n",
              "          element.appendChild(docLink);\n",
              "        }\n",
              "      </script>\n",
              "    </div>\n",
              "  </div>\n",
              "  "
            ]
          },
          "metadata": {},
          "execution_count": 11
        }
      ]
    },
    {
      "cell_type": "markdown",
      "source": [
        "Ya no hay registros con fechas incorrectas."
      ],
      "metadata": {
        "id": "ySWTeGZkNWXA"
      }
    },
    {
      "cell_type": "code",
      "source": [
        "# Verifico el tipo de datos de las columnas\n",
        "df.dtypes"
      ],
      "metadata": {
        "colab": {
          "base_uri": "https://localhost:8080/"
        },
        "id": "gbmnomHQNcCz",
        "outputId": "bce9ea52-fb02-42a5-98ef-48f5b84a4d9e"
      },
      "execution_count": 12,
      "outputs": [
        {
          "output_type": "execute_result",
          "data": {
            "text/plain": [
              "instant                int64\n",
              "Date          datetime64[ns]\n",
              "Season                object\n",
              "Holiday               object\n",
              "Weather               object\n",
              "Temp                  object\n",
              "Feel_Temp             object\n",
              "Hum                   object\n",
              "Wind                  object\n",
              "Casual                 int64\n",
              "Registered             int64\n",
              "cnt                    int64\n",
              "tmp_index              int64\n",
              "dtype: object"
            ]
          },
          "metadata": {},
          "execution_count": 12
        }
      ]
    },
    {
      "cell_type": "markdown",
      "source": [
        "Listo, la columna \"Date\" ahora es del tipo de dato `datetime`."
      ],
      "metadata": {
        "id": "IpIfIjAqNhLj"
      }
    },
    {
      "cell_type": "code",
      "source": [
        "# Busco los duplicados por fecha\n",
        "duplicates_by_date = df.loc[df['Date'].duplicated(keep = False)]\n",
        "duplicates_by_date"
      ],
      "metadata": {
        "colab": {
          "base_uri": "https://localhost:8080/",
          "height": 112
        },
        "id": "7BCrNbznbcTR",
        "outputId": "49159a2e-71cd-4c24-f2e8-072b83b3edac"
      },
      "execution_count": 13,
      "outputs": [
        {
          "output_type": "execute_result",
          "data": {
            "text/plain": [
              "     instant       Date    Season Holiday Weather       Temp  Feel_Temp  \\\n",
              "424      425 2021-03-01  Springer      No    Mist   8,184356    8,37809   \n",
              "425      426 2021-03-01  Springer      No   Clear  14,834151  14,342437   \n",
              "\n",
              "          Hum       Wind  Casual  Registered   cnt  tmp_index  \n",
              "424  0,804783  12,000839      65        1769  1834        425  \n",
              "425  0,615417  15,208129     325        4665  4990        426  "
            ],
            "text/html": [
              "\n",
              "  <div id=\"df-d53bb87b-53c6-4052-a3cc-f0c9ded9ae5f\">\n",
              "    <div class=\"colab-df-container\">\n",
              "      <div>\n",
              "<style scoped>\n",
              "    .dataframe tbody tr th:only-of-type {\n",
              "        vertical-align: middle;\n",
              "    }\n",
              "\n",
              "    .dataframe tbody tr th {\n",
              "        vertical-align: top;\n",
              "    }\n",
              "\n",
              "    .dataframe thead th {\n",
              "        text-align: right;\n",
              "    }\n",
              "</style>\n",
              "<table border=\"1\" class=\"dataframe\">\n",
              "  <thead>\n",
              "    <tr style=\"text-align: right;\">\n",
              "      <th></th>\n",
              "      <th>instant</th>\n",
              "      <th>Date</th>\n",
              "      <th>Season</th>\n",
              "      <th>Holiday</th>\n",
              "      <th>Weather</th>\n",
              "      <th>Temp</th>\n",
              "      <th>Feel_Temp</th>\n",
              "      <th>Hum</th>\n",
              "      <th>Wind</th>\n",
              "      <th>Casual</th>\n",
              "      <th>Registered</th>\n",
              "      <th>cnt</th>\n",
              "      <th>tmp_index</th>\n",
              "    </tr>\n",
              "  </thead>\n",
              "  <tbody>\n",
              "    <tr>\n",
              "      <th>424</th>\n",
              "      <td>425</td>\n",
              "      <td>2021-03-01</td>\n",
              "      <td>Springer</td>\n",
              "      <td>No</td>\n",
              "      <td>Mist</td>\n",
              "      <td>8,184356</td>\n",
              "      <td>8,37809</td>\n",
              "      <td>0,804783</td>\n",
              "      <td>12,000839</td>\n",
              "      <td>65</td>\n",
              "      <td>1769</td>\n",
              "      <td>1834</td>\n",
              "      <td>425</td>\n",
              "    </tr>\n",
              "    <tr>\n",
              "      <th>425</th>\n",
              "      <td>426</td>\n",
              "      <td>2021-03-01</td>\n",
              "      <td>Springer</td>\n",
              "      <td>No</td>\n",
              "      <td>Clear</td>\n",
              "      <td>14,834151</td>\n",
              "      <td>14,342437</td>\n",
              "      <td>0,615417</td>\n",
              "      <td>15,208129</td>\n",
              "      <td>325</td>\n",
              "      <td>4665</td>\n",
              "      <td>4990</td>\n",
              "      <td>426</td>\n",
              "    </tr>\n",
              "  </tbody>\n",
              "</table>\n",
              "</div>\n",
              "      <button class=\"colab-df-convert\" onclick=\"convertToInteractive('df-d53bb87b-53c6-4052-a3cc-f0c9ded9ae5f')\"\n",
              "              title=\"Convert this dataframe to an interactive table.\"\n",
              "              style=\"display:none;\">\n",
              "        \n",
              "  <svg xmlns=\"http://www.w3.org/2000/svg\" height=\"24px\"viewBox=\"0 0 24 24\"\n",
              "       width=\"24px\">\n",
              "    <path d=\"M0 0h24v24H0V0z\" fill=\"none\"/>\n",
              "    <path d=\"M18.56 5.44l.94 2.06.94-2.06 2.06-.94-2.06-.94-.94-2.06-.94 2.06-2.06.94zm-11 1L8.5 8.5l.94-2.06 2.06-.94-2.06-.94L8.5 2.5l-.94 2.06-2.06.94zm10 10l.94 2.06.94-2.06 2.06-.94-2.06-.94-.94-2.06-.94 2.06-2.06.94z\"/><path d=\"M17.41 7.96l-1.37-1.37c-.4-.4-.92-.59-1.43-.59-.52 0-1.04.2-1.43.59L10.3 9.45l-7.72 7.72c-.78.78-.78 2.05 0 2.83L4 21.41c.39.39.9.59 1.41.59.51 0 1.02-.2 1.41-.59l7.78-7.78 2.81-2.81c.8-.78.8-2.07 0-2.86zM5.41 20L4 18.59l7.72-7.72 1.47 1.35L5.41 20z\"/>\n",
              "  </svg>\n",
              "      </button>\n",
              "      \n",
              "  <style>\n",
              "    .colab-df-container {\n",
              "      display:flex;\n",
              "      flex-wrap:wrap;\n",
              "      gap: 12px;\n",
              "    }\n",
              "\n",
              "    .colab-df-convert {\n",
              "      background-color: #E8F0FE;\n",
              "      border: none;\n",
              "      border-radius: 50%;\n",
              "      cursor: pointer;\n",
              "      display: none;\n",
              "      fill: #1967D2;\n",
              "      height: 32px;\n",
              "      padding: 0 0 0 0;\n",
              "      width: 32px;\n",
              "    }\n",
              "\n",
              "    .colab-df-convert:hover {\n",
              "      background-color: #E2EBFA;\n",
              "      box-shadow: 0px 1px 2px rgba(60, 64, 67, 0.3), 0px 1px 3px 1px rgba(60, 64, 67, 0.15);\n",
              "      fill: #174EA6;\n",
              "    }\n",
              "\n",
              "    [theme=dark] .colab-df-convert {\n",
              "      background-color: #3B4455;\n",
              "      fill: #D2E3FC;\n",
              "    }\n",
              "\n",
              "    [theme=dark] .colab-df-convert:hover {\n",
              "      background-color: #434B5C;\n",
              "      box-shadow: 0px 1px 3px 1px rgba(0, 0, 0, 0.15);\n",
              "      filter: drop-shadow(0px 1px 2px rgba(0, 0, 0, 0.3));\n",
              "      fill: #FFFFFF;\n",
              "    }\n",
              "  </style>\n",
              "\n",
              "      <script>\n",
              "        const buttonEl =\n",
              "          document.querySelector('#df-d53bb87b-53c6-4052-a3cc-f0c9ded9ae5f button.colab-df-convert');\n",
              "        buttonEl.style.display =\n",
              "          google.colab.kernel.accessAllowed ? 'block' : 'none';\n",
              "\n",
              "        async function convertToInteractive(key) {\n",
              "          const element = document.querySelector('#df-d53bb87b-53c6-4052-a3cc-f0c9ded9ae5f');\n",
              "          const dataTable =\n",
              "            await google.colab.kernel.invokeFunction('convertToInteractive',\n",
              "                                                     [key], {});\n",
              "          if (!dataTable) return;\n",
              "\n",
              "          const docLinkHtml = 'Like what you see? Visit the ' +\n",
              "            '<a target=\"_blank\" href=https://colab.research.google.com/notebooks/data_table.ipynb>data table notebook</a>'\n",
              "            + ' to learn more about interactive tables.';\n",
              "          element.innerHTML = '';\n",
              "          dataTable['output_type'] = 'display_data';\n",
              "          await google.colab.output.renderOutput(dataTable, element);\n",
              "          const docLink = document.createElement('div');\n",
              "          docLink.innerHTML = docLinkHtml;\n",
              "          element.appendChild(docLink);\n",
              "        }\n",
              "      </script>\n",
              "    </div>\n",
              "  </div>\n",
              "  "
            ]
          },
          "metadata": {},
          "execution_count": 13
        }
      ]
    },
    {
      "cell_type": "markdown",
      "source": [
        "Aunque hay 2 registos que tienen la misma fecha no son registros duplicados por que corresponden a diferente clima y cantidad de rentas de patinetas."
      ],
      "metadata": {
        "id": "YZhREq0AcKW0"
      }
    },
    {
      "cell_type": "code",
      "source": [
        "# 2. A partir de la fecha corregida obtengo el año, mes y día de la semana\n",
        "import calendar\n",
        "\n",
        "df['year'] = df['Date'].apply(lambda x: x.year)\n",
        "df['month'] = df['Date'].apply(lambda x: x.strftime(\"%B\"))\n",
        "df['weekday'] = df['Date'].apply(lambda x: calendar.day_name[x.weekday()])\n",
        "\n",
        "# Luego, 'Date' como feature ya no lo necesito en mi modelo, voy a eliminar la columna\n",
        "df.drop('Date', axis=1, inplace=True)"
      ],
      "metadata": {
        "id": "YpMJjAE_PG84"
      },
      "execution_count": 14,
      "outputs": []
    },
    {
      "cell_type": "code",
      "source": [
        "# 3. Cambiar el tipo de dato de las columnas \"Temp\", \"Feel_Temp\", \"Hum\" y \"Wind\"\n",
        "import numpy as np\n",
        "\n",
        "def replace_comma(value):\n",
        "  return str(value).replace(\",\", \".\")\n",
        "\n",
        "df['Temp'] = df['Temp'].apply(replace_comma)\n",
        "df['Feel_Temp'] = df['Feel_Temp'].apply(replace_comma)\n",
        "df['Hum'] = df['Hum'].apply(replace_comma)\n",
        "df['Wind'] = df['Wind'].apply(replace_comma)\n",
        "\n",
        "df = df.astype({'Temp': np.float64,\n",
        "                'Feel_Temp': np.float64,\n",
        "                'Hum': np.float64,\n",
        "                'Wind': np.float64})\n",
        "\n",
        "# Imprimo nuevamente los tipos de datos\n",
        "df.dtypes"
      ],
      "metadata": {
        "colab": {
          "base_uri": "https://localhost:8080/"
        },
        "id": "gEuD-oHTCiVV",
        "outputId": "20aa8443-0b4a-40c1-a1c6-b66e0719adb0"
      },
      "execution_count": 15,
      "outputs": [
        {
          "output_type": "execute_result",
          "data": {
            "text/plain": [
              "instant         int64\n",
              "Season         object\n",
              "Holiday        object\n",
              "Weather        object\n",
              "Temp          float64\n",
              "Feel_Temp     float64\n",
              "Hum           float64\n",
              "Wind          float64\n",
              "Casual          int64\n",
              "Registered      int64\n",
              "cnt             int64\n",
              "tmp_index       int64\n",
              "year            int64\n",
              "month          object\n",
              "weekday        object\n",
              "dtype: object"
            ]
          },
          "metadata": {},
          "execution_count": 15
        }
      ]
    },
    {
      "cell_type": "markdown",
      "source": [
        "Ya se pueden observar los tipos de dato de \"Temp\", \"Feel_Temp\", \"Hum\" y \"Wind\" como float64."
      ],
      "metadata": {
        "id": "4-3aPxSbLV7I"
      }
    },
    {
      "cell_type": "code",
      "source": [
        "# 4. Completar los datos nulos de la columna \"Temp\" con la media de la columna\n",
        "df.fillna(value={'Temp': np.mean(df['Temp'], axis=0)}, inplace=True)\n",
        "\n",
        "# Verifico nuevamente que no haya nulos\n",
        "df.isnull().sum()"
      ],
      "metadata": {
        "colab": {
          "base_uri": "https://localhost:8080/"
        },
        "id": "3FhLyOqZ_54S",
        "outputId": "ce6a0148-7d95-49d3-87dd-e658f568b037"
      },
      "execution_count": 16,
      "outputs": [
        {
          "output_type": "execute_result",
          "data": {
            "text/plain": [
              "instant       0\n",
              "Season        0\n",
              "Holiday       0\n",
              "Weather       0\n",
              "Temp          0\n",
              "Feel_Temp     0\n",
              "Hum           0\n",
              "Wind          0\n",
              "Casual        0\n",
              "Registered    0\n",
              "cnt           0\n",
              "tmp_index     0\n",
              "year          0\n",
              "month         0\n",
              "weekday       0\n",
              "dtype: int64"
            ]
          },
          "metadata": {},
          "execution_count": 16
        }
      ]
    },
    {
      "cell_type": "markdown",
      "source": [
        "Ya no hay nulos en el dataset."
      ],
      "metadata": {
        "id": "fAlfEbVcAn8r"
      }
    },
    {
      "cell_type": "code",
      "source": [
        "# 5. Eliminar las columnas \"instant\" y \"tmp_index\"\n",
        "df.drop('instant', axis=1, inplace=True)\n",
        "df.drop('tmp_index', axis=1, inplace=True)\n",
        "\n",
        "# Verifico la cantidad de columnas nuevamente, deberían ser 13 ahora\n",
        "df.shape"
      ],
      "metadata": {
        "colab": {
          "base_uri": "https://localhost:8080/"
        },
        "id": "BHHGqbGHFLs0",
        "outputId": "11590323-ae58-4719-f01d-19740fc2b66e"
      },
      "execution_count": 17,
      "outputs": [
        {
          "output_type": "execute_result",
          "data": {
            "text/plain": [
              "(731, 13)"
            ]
          },
          "metadata": {},
          "execution_count": 17
        }
      ]
    },
    {
      "cell_type": "code",
      "source": [
        "# 6. Cambiar los valores y el tipo de dato de la columna \"Holiday\"\n",
        "df['Holiday'] = df['Holiday'].apply(lambda x: 1 if x == 'Yes' else 0)\n",
        "\n",
        "df = df.astype({'Holiday': np.bool_})\n",
        "\n",
        "# Imprimo nuevamente los tipos de datos\n",
        "df.dtypes"
      ],
      "metadata": {
        "colab": {
          "base_uri": "https://localhost:8080/"
        },
        "id": "lD7zDhLFKpTf",
        "outputId": "31669c69-a9fc-4b7e-8505-32c6a470973c"
      },
      "execution_count": 18,
      "outputs": [
        {
          "output_type": "execute_result",
          "data": {
            "text/plain": [
              "Season         object\n",
              "Holiday          bool\n",
              "Weather        object\n",
              "Temp          float64\n",
              "Feel_Temp     float64\n",
              "Hum           float64\n",
              "Wind          float64\n",
              "Casual          int64\n",
              "Registered      int64\n",
              "cnt             int64\n",
              "year            int64\n",
              "month          object\n",
              "weekday        object\n",
              "dtype: object"
            ]
          },
          "metadata": {},
          "execution_count": 18
        }
      ]
    },
    {
      "cell_type": "markdown",
      "source": [
        "Ya se puede observar el tipo de dato de \"Holiday\" actualizado a booleano."
      ],
      "metadata": {
        "id": "hI7LISjLLZhm"
      }
    },
    {
      "cell_type": "code",
      "source": [
        "# 7. Unifico los valores de \"Weather\" según la recomendación del meteorólogo\n",
        "def unify_weather(value):\n",
        "  if 'Mist' in value:\n",
        "    return 'Mist'\n",
        "  elif 'Rain' in value:\n",
        "    return 'Rain'\n",
        "  else:\n",
        "    return 'Other'\n",
        "\n",
        "df['Weather'] = df['Weather'].apply(unify_weather)\n",
        "\n",
        "# Verifico nuevamente los valores únicos de \"Weather\", ya se deben ver mejor\n",
        "df['Weather'].unique()"
      ],
      "metadata": {
        "colab": {
          "base_uri": "https://localhost:8080/"
        },
        "id": "Oaz0G2K_LY1X",
        "outputId": "8610c3e8-6692-4ecd-fa46-7038bf380898"
      },
      "execution_count": 19,
      "outputs": [
        {
          "output_type": "execute_result",
          "data": {
            "text/plain": [
              "array(['Mist', 'Other', 'Rain'], dtype=object)"
            ]
          },
          "metadata": {},
          "execution_count": 19
        }
      ]
    },
    {
      "cell_type": "code",
      "source": [
        "# Imprimo de nuevo el dataset, ya se puede ver con las mejoras aplicadas\n",
        "df.head()"
      ],
      "metadata": {
        "colab": {
          "base_uri": "https://localhost:8080/",
          "height": 206
        },
        "id": "KcYDxFmdRFxV",
        "outputId": "9ac88399-5180-465c-fae1-f51787155017"
      },
      "execution_count": 20,
      "outputs": [
        {
          "output_type": "execute_result",
          "data": {
            "text/plain": [
              "     Season  Holiday Weather      Temp  Feel_Temp       Hum       Wind  \\\n",
              "0  Springer    False    Mist  8.175849   9.090375  0.805833  10.749882   \n",
              "1  Springer    False    Mist  9.083466   8.625733  0.696087 -16.652113   \n",
              "2  Springer    False   Other  1.229108   0.902035  0.437273  16.636703   \n",
              "3  Springer    False   Other  1.400000   1.969734  0.590435  10.739832   \n",
              "4  Springer    False   Other  2.666979   2.775690  0.436957  12.522300   \n",
              "\n",
              "   Casual  Registered   cnt  year    month    weekday  \n",
              "0     331         654   985  2020  January  Wednesday  \n",
              "1     131         670   801  2020  January   Thursday  \n",
              "2     120        1229  1349  2020  January     Friday  \n",
              "3     108        1454  1562  2020  January   Saturday  \n",
              "4      82        1518  1600  2020  January     Sunday  "
            ],
            "text/html": [
              "\n",
              "  <div id=\"df-080c9978-f51f-4734-b292-8e38b8f7f0b4\">\n",
              "    <div class=\"colab-df-container\">\n",
              "      <div>\n",
              "<style scoped>\n",
              "    .dataframe tbody tr th:only-of-type {\n",
              "        vertical-align: middle;\n",
              "    }\n",
              "\n",
              "    .dataframe tbody tr th {\n",
              "        vertical-align: top;\n",
              "    }\n",
              "\n",
              "    .dataframe thead th {\n",
              "        text-align: right;\n",
              "    }\n",
              "</style>\n",
              "<table border=\"1\" class=\"dataframe\">\n",
              "  <thead>\n",
              "    <tr style=\"text-align: right;\">\n",
              "      <th></th>\n",
              "      <th>Season</th>\n",
              "      <th>Holiday</th>\n",
              "      <th>Weather</th>\n",
              "      <th>Temp</th>\n",
              "      <th>Feel_Temp</th>\n",
              "      <th>Hum</th>\n",
              "      <th>Wind</th>\n",
              "      <th>Casual</th>\n",
              "      <th>Registered</th>\n",
              "      <th>cnt</th>\n",
              "      <th>year</th>\n",
              "      <th>month</th>\n",
              "      <th>weekday</th>\n",
              "    </tr>\n",
              "  </thead>\n",
              "  <tbody>\n",
              "    <tr>\n",
              "      <th>0</th>\n",
              "      <td>Springer</td>\n",
              "      <td>False</td>\n",
              "      <td>Mist</td>\n",
              "      <td>8.175849</td>\n",
              "      <td>9.090375</td>\n",
              "      <td>0.805833</td>\n",
              "      <td>10.749882</td>\n",
              "      <td>331</td>\n",
              "      <td>654</td>\n",
              "      <td>985</td>\n",
              "      <td>2020</td>\n",
              "      <td>January</td>\n",
              "      <td>Wednesday</td>\n",
              "    </tr>\n",
              "    <tr>\n",
              "      <th>1</th>\n",
              "      <td>Springer</td>\n",
              "      <td>False</td>\n",
              "      <td>Mist</td>\n",
              "      <td>9.083466</td>\n",
              "      <td>8.625733</td>\n",
              "      <td>0.696087</td>\n",
              "      <td>-16.652113</td>\n",
              "      <td>131</td>\n",
              "      <td>670</td>\n",
              "      <td>801</td>\n",
              "      <td>2020</td>\n",
              "      <td>January</td>\n",
              "      <td>Thursday</td>\n",
              "    </tr>\n",
              "    <tr>\n",
              "      <th>2</th>\n",
              "      <td>Springer</td>\n",
              "      <td>False</td>\n",
              "      <td>Other</td>\n",
              "      <td>1.229108</td>\n",
              "      <td>0.902035</td>\n",
              "      <td>0.437273</td>\n",
              "      <td>16.636703</td>\n",
              "      <td>120</td>\n",
              "      <td>1229</td>\n",
              "      <td>1349</td>\n",
              "      <td>2020</td>\n",
              "      <td>January</td>\n",
              "      <td>Friday</td>\n",
              "    </tr>\n",
              "    <tr>\n",
              "      <th>3</th>\n",
              "      <td>Springer</td>\n",
              "      <td>False</td>\n",
              "      <td>Other</td>\n",
              "      <td>1.400000</td>\n",
              "      <td>1.969734</td>\n",
              "      <td>0.590435</td>\n",
              "      <td>10.739832</td>\n",
              "      <td>108</td>\n",
              "      <td>1454</td>\n",
              "      <td>1562</td>\n",
              "      <td>2020</td>\n",
              "      <td>January</td>\n",
              "      <td>Saturday</td>\n",
              "    </tr>\n",
              "    <tr>\n",
              "      <th>4</th>\n",
              "      <td>Springer</td>\n",
              "      <td>False</td>\n",
              "      <td>Other</td>\n",
              "      <td>2.666979</td>\n",
              "      <td>2.775690</td>\n",
              "      <td>0.436957</td>\n",
              "      <td>12.522300</td>\n",
              "      <td>82</td>\n",
              "      <td>1518</td>\n",
              "      <td>1600</td>\n",
              "      <td>2020</td>\n",
              "      <td>January</td>\n",
              "      <td>Sunday</td>\n",
              "    </tr>\n",
              "  </tbody>\n",
              "</table>\n",
              "</div>\n",
              "      <button class=\"colab-df-convert\" onclick=\"convertToInteractive('df-080c9978-f51f-4734-b292-8e38b8f7f0b4')\"\n",
              "              title=\"Convert this dataframe to an interactive table.\"\n",
              "              style=\"display:none;\">\n",
              "        \n",
              "  <svg xmlns=\"http://www.w3.org/2000/svg\" height=\"24px\"viewBox=\"0 0 24 24\"\n",
              "       width=\"24px\">\n",
              "    <path d=\"M0 0h24v24H0V0z\" fill=\"none\"/>\n",
              "    <path d=\"M18.56 5.44l.94 2.06.94-2.06 2.06-.94-2.06-.94-.94-2.06-.94 2.06-2.06.94zm-11 1L8.5 8.5l.94-2.06 2.06-.94-2.06-.94L8.5 2.5l-.94 2.06-2.06.94zm10 10l.94 2.06.94-2.06 2.06-.94-2.06-.94-.94-2.06-.94 2.06-2.06.94z\"/><path d=\"M17.41 7.96l-1.37-1.37c-.4-.4-.92-.59-1.43-.59-.52 0-1.04.2-1.43.59L10.3 9.45l-7.72 7.72c-.78.78-.78 2.05 0 2.83L4 21.41c.39.39.9.59 1.41.59.51 0 1.02-.2 1.41-.59l7.78-7.78 2.81-2.81c.8-.78.8-2.07 0-2.86zM5.41 20L4 18.59l7.72-7.72 1.47 1.35L5.41 20z\"/>\n",
              "  </svg>\n",
              "      </button>\n",
              "      \n",
              "  <style>\n",
              "    .colab-df-container {\n",
              "      display:flex;\n",
              "      flex-wrap:wrap;\n",
              "      gap: 12px;\n",
              "    }\n",
              "\n",
              "    .colab-df-convert {\n",
              "      background-color: #E8F0FE;\n",
              "      border: none;\n",
              "      border-radius: 50%;\n",
              "      cursor: pointer;\n",
              "      display: none;\n",
              "      fill: #1967D2;\n",
              "      height: 32px;\n",
              "      padding: 0 0 0 0;\n",
              "      width: 32px;\n",
              "    }\n",
              "\n",
              "    .colab-df-convert:hover {\n",
              "      background-color: #E2EBFA;\n",
              "      box-shadow: 0px 1px 2px rgba(60, 64, 67, 0.3), 0px 1px 3px 1px rgba(60, 64, 67, 0.15);\n",
              "      fill: #174EA6;\n",
              "    }\n",
              "\n",
              "    [theme=dark] .colab-df-convert {\n",
              "      background-color: #3B4455;\n",
              "      fill: #D2E3FC;\n",
              "    }\n",
              "\n",
              "    [theme=dark] .colab-df-convert:hover {\n",
              "      background-color: #434B5C;\n",
              "      box-shadow: 0px 1px 3px 1px rgba(0, 0, 0, 0.15);\n",
              "      filter: drop-shadow(0px 1px 2px rgba(0, 0, 0, 0.3));\n",
              "      fill: #FFFFFF;\n",
              "    }\n",
              "  </style>\n",
              "\n",
              "      <script>\n",
              "        const buttonEl =\n",
              "          document.querySelector('#df-080c9978-f51f-4734-b292-8e38b8f7f0b4 button.colab-df-convert');\n",
              "        buttonEl.style.display =\n",
              "          google.colab.kernel.accessAllowed ? 'block' : 'none';\n",
              "\n",
              "        async function convertToInteractive(key) {\n",
              "          const element = document.querySelector('#df-080c9978-f51f-4734-b292-8e38b8f7f0b4');\n",
              "          const dataTable =\n",
              "            await google.colab.kernel.invokeFunction('convertToInteractive',\n",
              "                                                     [key], {});\n",
              "          if (!dataTable) return;\n",
              "\n",
              "          const docLinkHtml = 'Like what you see? Visit the ' +\n",
              "            '<a target=\"_blank\" href=https://colab.research.google.com/notebooks/data_table.ipynb>data table notebook</a>'\n",
              "            + ' to learn more about interactive tables.';\n",
              "          element.innerHTML = '';\n",
              "          dataTable['output_type'] = 'display_data';\n",
              "          await google.colab.output.renderOutput(dataTable, element);\n",
              "          const docLink = document.createElement('div');\n",
              "          docLink.innerHTML = docLinkHtml;\n",
              "          element.appendChild(docLink);\n",
              "        }\n",
              "      </script>\n",
              "    </div>\n",
              "  </div>\n",
              "  "
            ]
          },
          "metadata": {},
          "execution_count": 20
        }
      ]
    },
    {
      "cell_type": "code",
      "source": [
        "# Imprimo la cantidad de registros y la cantidad de features\n",
        "df.shape"
      ],
      "metadata": {
        "colab": {
          "base_uri": "https://localhost:8080/"
        },
        "id": "8c6eIUXDZhwB",
        "outputId": "e6ac3e38-9c24-4ab2-89da-7a8c2494ed26"
      },
      "execution_count": 21,
      "outputs": [
        {
          "output_type": "execute_result",
          "data": {
            "text/plain": [
              "(731, 13)"
            ]
          },
          "metadata": {},
          "execution_count": 21
        }
      ]
    },
    {
      "cell_type": "markdown",
      "source": [
        "## Análisis de datos"
      ],
      "metadata": {
        "id": "zH_L6HsjRPJU"
      }
    },
    {
      "cell_type": "code",
      "source": [
        "# Verifico cuál es la distribución de la variable dependiente (target)\n",
        "df['cnt'].describe(percentiles = [.25, .5, .75, .99, 1])"
      ],
      "metadata": {
        "colab": {
          "base_uri": "https://localhost:8080/"
        },
        "id": "VXgTDO4T-wOX",
        "outputId": "6c99c621-ffff-4f09-a2d4-f5e1866074a9"
      },
      "execution_count": 22,
      "outputs": [
        {
          "output_type": "execute_result",
          "data": {
            "text/plain": [
              "count     731.000000\n",
              "mean     4504.348837\n",
              "std      1937.211452\n",
              "min        22.000000\n",
              "25%      3152.000000\n",
              "50%      4548.000000\n",
              "75%      5956.000000\n",
              "99%      8163.700000\n",
              "100%     8714.000000\n",
              "max      8714.000000\n",
              "Name: cnt, dtype: float64"
            ]
          },
          "metadata": {},
          "execution_count": 22
        }
      ]
    },
    {
      "cell_type": "code",
      "source": [
        "import matplotlib.pyplot as plt\n",
        "\n",
        "plt.figure(figsize = (28, 3))\n",
        "plt.boxplot(df['cnt'], vert = False)\n",
        "plt.show()"
      ],
      "metadata": {
        "colab": {
          "base_uri": "https://localhost:8080/",
          "height": 162
        },
        "id": "m7fGVC_dTGCo",
        "outputId": "5c38694c-1c93-4b4a-8b3d-a05c831dff56"
      },
      "execution_count": 23,
      "outputs": [
        {
          "output_type": "display_data",
          "data": {
            "text/plain": [
              "<Figure size 2016x216 with 1 Axes>"
            ],
            "image/png": "[encoded data removed]"
          },
          "metadata": {
            "needs_background": "light"
          }
        }
      ]
    },
    {
      "cell_type": "markdown",
      "source": [
        "Los datos de las cantidades de rentas de patinetas están balanceados."
      ],
      "metadata": {
        "id": "6nhSzLb7_Ioz"
      }
    },
    {
      "cell_type": "code",
      "source": [
        "# Busco la correlación de las variables\n",
        "df.corr()"
      ],
      "metadata": {
        "colab": {
          "base_uri": "https://localhost:8080/",
          "height": 332
        },
        "id": "_ki1lq5yCXKX",
        "outputId": "18c0bfe8-806a-460e-d9f0-72e4807462ff"
      },
      "execution_count": 24,
      "outputs": [
        {
          "output_type": "execute_result",
          "data": {
            "text/plain": [
              "             Holiday      Temp  Feel_Temp       Hum      Wind    Casual  \\\n",
              "Holiday     1.000000 -0.028417  -0.032507 -0.015569  0.009009  0.054274   \n",
              "Temp       -0.028417  1.000000   0.987659 -0.000575 -0.143290  0.543683   \n",
              "Feel_Temp  -0.032507  0.987659   1.000000 -0.021285 -0.171659  0.543864   \n",
              "Hum        -0.015569 -0.000575  -0.021285  1.000000 -0.026731 -0.008490   \n",
              "Wind        0.009009 -0.143290  -0.171659 -0.026731  1.000000 -0.154652   \n",
              "Casual      0.054274  0.543683   0.543864 -0.008490 -0.154652  1.000000   \n",
              "Registered -0.108745  0.536810   0.544192 -0.055816 -0.197764  0.395282   \n",
              "cnt        -0.068348  0.625056   0.631066 -0.047965 -0.214097  0.672804   \n",
              "year        0.007954  0.048597   0.046106 -0.021094 -0.005097  0.248546   \n",
              "\n",
              "            Registered       cnt      year  \n",
              "Holiday      -0.108745 -0.068348  0.007954  \n",
              "Temp          0.536810  0.625056  0.048597  \n",
              "Feel_Temp     0.544192  0.631066  0.046106  \n",
              "Hum          -0.055816 -0.047965 -0.021094  \n",
              "Wind         -0.197764 -0.214097 -0.005097  \n",
              "Casual        0.395282  0.672804  0.248546  \n",
              "Registered    1.000000  0.945517  0.594248  \n",
              "cnt           0.945517  1.000000  0.566710  \n",
              "year          0.594248  0.566710  1.000000  "
            ],
            "text/html": [
              "\n",
              "  <div id=\"df-e75baf25-c851-44a1-8ec5-da0daa4a1450\">\n",
              "    <div class=\"colab-df-container\">\n",
              "      <div>\n",
              "<style scoped>\n",
              "    .dataframe tbody tr th:only-of-type {\n",
              "        vertical-align: middle;\n",
              "    }\n",
              "\n",
              "    .dataframe tbody tr th {\n",
              "        vertical-align: top;\n",
              "    }\n",
              "\n",
              "    .dataframe thead th {\n",
              "        text-align: right;\n",
              "    }\n",
              "</style>\n",
              "<table border=\"1\" class=\"dataframe\">\n",
              "  <thead>\n",
              "    <tr style=\"text-align: right;\">\n",
              "      <th></th>\n",
              "      <th>Holiday</th>\n",
              "      <th>Temp</th>\n",
              "      <th>Feel_Temp</th>\n",
              "      <th>Hum</th>\n",
              "      <th>Wind</th>\n",
              "      <th>Casual</th>\n",
              "      <th>Registered</th>\n",
              "      <th>cnt</th>\n",
              "      <th>year</th>\n",
              "    </tr>\n",
              "  </thead>\n",
              "  <tbody>\n",
              "    <tr>\n",
              "      <th>Holiday</th>\n",
              "      <td>1.000000</td>\n",
              "      <td>-0.028417</td>\n",
              "      <td>-0.032507</td>\n",
              "      <td>-0.015569</td>\n",
              "      <td>0.009009</td>\n",
              "      <td>0.054274</td>\n",
              "      <td>-0.108745</td>\n",
              "      <td>-0.068348</td>\n",
              "      <td>0.007954</td>\n",
              "    </tr>\n",
              "    <tr>\n",
              "      <th>Temp</th>\n",
              "      <td>-0.028417</td>\n",
              "      <td>1.000000</td>\n",
              "      <td>0.987659</td>\n",
              "      <td>-0.000575</td>\n",
              "      <td>-0.143290</td>\n",
              "      <td>0.543683</td>\n",
              "      <td>0.536810</td>\n",
              "      <td>0.625056</td>\n",
              "      <td>0.048597</td>\n",
              "    </tr>\n",
              "    <tr>\n",
              "      <th>Feel_Temp</th>\n",
              "      <td>-0.032507</td>\n",
              "      <td>0.987659</td>\n",
              "      <td>1.000000</td>\n",
              "      <td>-0.021285</td>\n",
              "      <td>-0.171659</td>\n",
              "      <td>0.543864</td>\n",
              "      <td>0.544192</td>\n",
              "      <td>0.631066</td>\n",
              "      <td>0.046106</td>\n",
              "    </tr>\n",
              "    <tr>\n",
              "      <th>Hum</th>\n",
              "      <td>-0.015569</td>\n",
              "      <td>-0.000575</td>\n",
              "      <td>-0.021285</td>\n",
              "      <td>1.000000</td>\n",
              "      <td>-0.026731</td>\n",
              "      <td>-0.008490</td>\n",
              "      <td>-0.055816</td>\n",
              "      <td>-0.047965</td>\n",
              "      <td>-0.021094</td>\n",
              "    </tr>\n",
              "    <tr>\n",
              "      <th>Wind</th>\n",
              "      <td>0.009009</td>\n",
              "      <td>-0.143290</td>\n",
              "      <td>-0.171659</td>\n",
              "      <td>-0.026731</td>\n",
              "      <td>1.000000</td>\n",
              "      <td>-0.154652</td>\n",
              "      <td>-0.197764</td>\n",
              "      <td>-0.214097</td>\n",
              "      <td>-0.005097</td>\n",
              "    </tr>\n",
              "    <tr>\n",
              "      <th>Casual</th>\n",
              "      <td>0.054274</td>\n",
              "      <td>0.543683</td>\n",
              "      <td>0.543864</td>\n",
              "      <td>-0.008490</td>\n",
              "      <td>-0.154652</td>\n",
              "      <td>1.000000</td>\n",
              "      <td>0.395282</td>\n",
              "      <td>0.672804</td>\n",
              "      <td>0.248546</td>\n",
              "    </tr>\n",
              "    <tr>\n",
              "      <th>Registered</th>\n",
              "      <td>-0.108745</td>\n",
              "      <td>0.536810</td>\n",
              "      <td>0.544192</td>\n",
              "      <td>-0.055816</td>\n",
              "      <td>-0.197764</td>\n",
              "      <td>0.395282</td>\n",
              "      <td>1.000000</td>\n",
              "      <td>0.945517</td>\n",
              "      <td>0.594248</td>\n",
              "    </tr>\n",
              "    <tr>\n",
              "      <th>cnt</th>\n",
              "      <td>-0.068348</td>\n",
              "      <td>0.625056</td>\n",
              "      <td>0.631066</td>\n",
              "      <td>-0.047965</td>\n",
              "      <td>-0.214097</td>\n",
              "      <td>0.672804</td>\n",
              "      <td>0.945517</td>\n",
              "      <td>1.000000</td>\n",
              "      <td>0.566710</td>\n",
              "    </tr>\n",
              "    <tr>\n",
              "      <th>year</th>\n",
              "      <td>0.007954</td>\n",
              "      <td>0.048597</td>\n",
              "      <td>0.046106</td>\n",
              "      <td>-0.021094</td>\n",
              "      <td>-0.005097</td>\n",
              "      <td>0.248546</td>\n",
              "      <td>0.594248</td>\n",
              "      <td>0.566710</td>\n",
              "      <td>1.000000</td>\n",
              "    </tr>\n",
              "  </tbody>\n",
              "</table>\n",
              "</div>\n",
              "      <button class=\"colab-df-convert\" onclick=\"convertToInteractive('df-e75baf25-c851-44a1-8ec5-da0daa4a1450')\"\n",
              "              title=\"Convert this dataframe to an interactive table.\"\n",
              "              style=\"display:none;\">\n",
              "        \n",
              "  <svg xmlns=\"http://www.w3.org/2000/svg\" height=\"24px\"viewBox=\"0 0 24 24\"\n",
              "       width=\"24px\">\n",
              "    <path d=\"M0 0h24v24H0V0z\" fill=\"none\"/>\n",
              "    <path d=\"M18.56 5.44l.94 2.06.94-2.06 2.06-.94-2.06-.94-.94-2.06-.94 2.06-2.06.94zm-11 1L8.5 8.5l.94-2.06 2.06-.94-2.06-.94L8.5 2.5l-.94 2.06-2.06.94zm10 10l.94 2.06.94-2.06 2.06-.94-2.06-.94-.94-2.06-.94 2.06-2.06.94z\"/><path d=\"M17.41 7.96l-1.37-1.37c-.4-.4-.92-.59-1.43-.59-.52 0-1.04.2-1.43.59L10.3 9.45l-7.72 7.72c-.78.78-.78 2.05 0 2.83L4 21.41c.39.39.9.59 1.41.59.51 0 1.02-.2 1.41-.59l7.78-7.78 2.81-2.81c.8-.78.8-2.07 0-2.86zM5.41 20L4 18.59l7.72-7.72 1.47 1.35L5.41 20z\"/>\n",
              "  </svg>\n",
              "      </button>\n",
              "      \n",
              "  <style>\n",
              "    .colab-df-container {\n",
              "      display:flex;\n",
              "      flex-wrap:wrap;\n",
              "      gap: 12px;\n",
              "    }\n",
              "\n",
              "    .colab-df-convert {\n",
              "      background-color: #E8F0FE;\n",
              "      border: none;\n",
              "      border-radius: 50%;\n",
              "      cursor: pointer;\n",
              "      display: none;\n",
              "      fill: #1967D2;\n",
              "      height: 32px;\n",
              "      padding: 0 0 0 0;\n",
              "      width: 32px;\n",
              "    }\n",
              "\n",
              "    .colab-df-convert:hover {\n",
              "      background-color: #E2EBFA;\n",
              "      box-shadow: 0px 1px 2px rgba(60, 64, 67, 0.3), 0px 1px 3px 1px rgba(60, 64, 67, 0.15);\n",
              "      fill: #174EA6;\n",
              "    }\n",
              "\n",
              "    [theme=dark] .colab-df-convert {\n",
              "      background-color: #3B4455;\n",
              "      fill: #D2E3FC;\n",
              "    }\n",
              "\n",
              "    [theme=dark] .colab-df-convert:hover {\n",
              "      background-color: #434B5C;\n",
              "      box-shadow: 0px 1px 3px 1px rgba(0, 0, 0, 0.15);\n",
              "      filter: drop-shadow(0px 1px 2px rgba(0, 0, 0, 0.3));\n",
              "      fill: #FFFFFF;\n",
              "    }\n",
              "  </style>\n",
              "\n",
              "      <script>\n",
              "        const buttonEl =\n",
              "          document.querySelector('#df-e75baf25-c851-44a1-8ec5-da0daa4a1450 button.colab-df-convert');\n",
              "        buttonEl.style.display =\n",
              "          google.colab.kernel.accessAllowed ? 'block' : 'none';\n",
              "\n",
              "        async function convertToInteractive(key) {\n",
              "          const element = document.querySelector('#df-e75baf25-c851-44a1-8ec5-da0daa4a1450');\n",
              "          const dataTable =\n",
              "            await google.colab.kernel.invokeFunction('convertToInteractive',\n",
              "                                                     [key], {});\n",
              "          if (!dataTable) return;\n",
              "\n",
              "          const docLinkHtml = 'Like what you see? Visit the ' +\n",
              "            '<a target=\"_blank\" href=https://colab.research.google.com/notebooks/data_table.ipynb>data table notebook</a>'\n",
              "            + ' to learn more about interactive tables.';\n",
              "          element.innerHTML = '';\n",
              "          dataTable['output_type'] = 'display_data';\n",
              "          await google.colab.output.renderOutput(dataTable, element);\n",
              "          const docLink = document.createElement('div');\n",
              "          docLink.innerHTML = docLinkHtml;\n",
              "          element.appendChild(docLink);\n",
              "        }\n",
              "      </script>\n",
              "    </div>\n",
              "  </div>\n",
              "  "
            ]
          },
          "metadata": {},
          "execution_count": 24
        }
      ]
    },
    {
      "cell_type": "markdown",
      "source": [
        "Las correlaciones más altas se ven entre la cantidad de usuarios registrados que rentan patinetas (Registered) y la cantidad total de rentas de patinetas (cnt).\n",
        "\n",
        "También se ven correlaciones altas de la temperatura (Temp) y la cantidad total de rentas de patinetas (cnt)."
      ],
      "metadata": {
        "id": "fNh1yk-7DCGs"
      }
    },
    {
      "cell_type": "code",
      "source": [
        "# ¿Cuál es la temporada del año donde hay más rentas patinetas?\n",
        "import matplotlib.pyplot as plt \n",
        "\n",
        "plt.figure(figsize = (10,5))\n",
        "seasons_df = df.groupby(['Season']).agg({'cnt': 'sum'})\n",
        "ax = seasons_df['cnt'].plot(kind='bar', title='Cantidad de rentas de patinetas por temporada')\n",
        "ax.set_xticklabels(ax.get_xticklabels(), rotation = 20)\n",
        "plt.xlabel('Temporada')\n",
        "plt.ylabel('Cantidad de rentas')\n",
        "\n",
        "# Se formatean los valores del eje \"y\"\n",
        "current_values = plt.gca().get_yticks()\n",
        "plt.gca().set_yticklabels(['{:.0f}'.format(x) for x in current_values])\n",
        "\n",
        "plt.show()"
      ],
      "metadata": {
        "colab": {
          "base_uri": "https://localhost:8080/",
          "height": 364
        },
        "id": "57ueQJygEdco",
        "outputId": "8f2fed1e-19d8-417e-cf5f-71bf69914258"
      },
      "execution_count": 25,
      "outputs": [
        {
          "output_type": "display_data",
          "data": {
            "text/plain": [
              "<Figure size 720x360 with 1 Axes>"
            ],
            "image/png": "[encoded data removed]"
          },
          "metadata": {
            "needs_background": "light"
          }
        }
      ]
    },
    {
      "cell_type": "markdown",
      "source": [
        "Otoño es donde más se rentan patientas con más de 1.000.000 de rentas al contrario de la primavera que es donde menos se observan rentas con aproximadamente 500.000 rentas."
      ],
      "metadata": {
        "id": "T4bYl46HIJZr"
      }
    },
    {
      "cell_type": "code",
      "source": [
        "# ¿Cuál es el mes del año donde hay más rentas patinetas?\n",
        "plt.figure(figsize = (10,5))\n",
        "weekdays_df = df.groupby(['month']).agg({'cnt': 'sum'}).sort_values('cnt', ascending=True)\n",
        "ax = weekdays_df['cnt'].plot(kind='bar', title='Cantidad de rentas de patinetas por mes del año')\n",
        "ax.set_xticklabels(ax.get_xticklabels(), rotation = 20)\n",
        "plt.xlabel('Mes del año')\n",
        "plt.ylabel('Cantidad de rentas')\n",
        "\n",
        "plt.show()"
      ],
      "metadata": {
        "colab": {
          "base_uri": "https://localhost:8080/",
          "height": 368
        },
        "id": "imwvQuFWRF9W",
        "outputId": "4d4439c9-c2de-4595-9c00-187e76f864f8"
      },
      "execution_count": 26,
      "outputs": [
        {
          "output_type": "display_data",
          "data": {
            "text/plain": [
              "<Figure size 720x360 with 1 Axes>"
            ],
            "image/png": "[encoded data removed]"
          },
          "metadata": {
            "needs_background": "light"
          }
        }
      ]
    },
    {
      "cell_type": "markdown",
      "source": [
        "Se puede observar que hay 3 meses del año donde la renta de patinetas es menor, corresponden a diciembre, enero y febrero.\n",
        "\n",
        "La época de fin de año y de inicio de año no es un buen momento para invertir en patinetas para rentar y a los usuarios no les interesa rentar tampoco, seguro están con otros asuntos pendientes."
      ],
      "metadata": {
        "id": "N0PwKVnASGcR"
      }
    },
    {
      "cell_type": "code",
      "source": [
        "# ¿Cuál es el día de la semana donde más rentas patinetas?\n",
        "plt.figure(figsize = (10,5))\n",
        "weekdays_df = df.groupby(['weekday']).agg({'cnt': 'sum'}).sort_values('cnt', ascending=True)\n",
        "ax = weekdays_df['cnt'].plot(kind='bar', title='Cantidad de rentas de patinetas por día de la semana')\n",
        "ax.set_xticklabels(ax.get_xticklabels(), rotation = 20)\n",
        "plt.xlabel('Día de la semana')\n",
        "plt.ylabel('Cantidad de rentas')\n",
        "\n",
        "plt.show()"
      ],
      "metadata": {
        "colab": {
          "base_uri": "https://localhost:8080/",
          "height": 369
        },
        "id": "tE9jkajQOAdo",
        "outputId": "8e5a594c-4cdd-4e75-c7a8-4a28696fa549"
      },
      "execution_count": 27,
      "outputs": [
        {
          "output_type": "display_data",
          "data": {
            "text/plain": [
              "<Figure size 720x360 with 1 Axes>"
            ],
            "image/png": "[encoded data removed]"
          },
          "metadata": {
            "needs_background": "light"
          }
        }
      ]
    },
    {
      "cell_type": "markdown",
      "source": [
        "Los rentas por día de la semana varían entre los 450.000 y los 500.000. La diferencia no es mucha.\n",
        "\n",
        "El día con menos rentas es el jueves y el día con más rentas es el domingo.\n",
        "\n",
        "Esto quiere quiere decir que los usuarios no tienen mucha preferencia por el día de la semana que rentan la patineta."
      ],
      "metadata": {
        "id": "oVKr6RUgQT-1"
      }
    },
    {
      "cell_type": "markdown",
      "source": [
        "## Modelos de Machine Learning"
      ],
      "metadata": {
        "id": "tkPEaYAREZbv"
      }
    },
    {
      "cell_type": "markdown",
      "source": [
        "Me dispongo a preparar los datos, tener listos los datasets de la variable dependiente y las variables independientes:"
      ],
      "metadata": {
        "id": "HHdC0AgiVpd-"
      }
    },
    {
      "cell_type": "code",
      "source": [
        "# Preparo todos los datos para tenerlos como cuantitativos aplicando un encoding\n",
        "from sklearn.compose import ColumnTransformer\n",
        "from sklearn.preprocessing import OneHotEncoder\n",
        "\n",
        "# Con el parámetro \"drop ='first'\" se elimina una columna de cada feature y así se evita la multicolinealidad\n",
        "columns = ['Season', 'Holiday', 'Weather', 'month', 'weekday']\n",
        "ct = ColumnTransformer(transformers = [('OneHotEncoder',\n",
        "                                        OneHotEncoder(sparse = False, drop ='first'), columns)],\n",
        "                       remainder = 'passthrough')\n",
        "df2 = ct.fit_transform(df)\n",
        "df2 = pd.DataFrame(data=df2, columns=ct.get_feature_names_out())\n",
        "\n",
        "df2.head()"
      ],
      "metadata": {
        "colab": {
          "base_uri": "https://localhost:8080/",
          "height": 270
        },
        "id": "9OIbIcQaUOez",
        "outputId": "f82fca77-65db-421f-a64b-c478cc93e6d8"
      },
      "execution_count": 28,
      "outputs": [
        {
          "output_type": "execute_result",
          "data": {
            "text/plain": [
              "   OneHotEncoder__Season_Springer  OneHotEncoder__Season_Summer  \\\n",
              "0                             1.0                           0.0   \n",
              "1                             1.0                           0.0   \n",
              "2                             1.0                           0.0   \n",
              "3                             1.0                           0.0   \n",
              "4                             1.0                           0.0   \n",
              "\n",
              "   OneHotEncoder__Season_Winter  OneHotEncoder__Holiday_True  \\\n",
              "0                           0.0                          0.0   \n",
              "1                           0.0                          0.0   \n",
              "2                           0.0                          0.0   \n",
              "3                           0.0                          0.0   \n",
              "4                           0.0                          0.0   \n",
              "\n",
              "   OneHotEncoder__Weather_Other  OneHotEncoder__Weather_Rain  \\\n",
              "0                           0.0                          0.0   \n",
              "1                           0.0                          0.0   \n",
              "2                           1.0                          0.0   \n",
              "3                           1.0                          0.0   \n",
              "4                           1.0                          0.0   \n",
              "\n",
              "   OneHotEncoder__month_August  OneHotEncoder__month_December  \\\n",
              "0                          0.0                            0.0   \n",
              "1                          0.0                            0.0   \n",
              "2                          0.0                            0.0   \n",
              "3                          0.0                            0.0   \n",
              "4                          0.0                            0.0   \n",
              "\n",
              "   OneHotEncoder__month_February  OneHotEncoder__month_January  \\\n",
              "0                            0.0                           1.0   \n",
              "1                            0.0                           1.0   \n",
              "2                            0.0                           1.0   \n",
              "3                            0.0                           1.0   \n",
              "4                            0.0                           1.0   \n",
              "\n",
              "   OneHotEncoder__month_July  OneHotEncoder__month_June  \\\n",
              "0                        0.0                        0.0   \n",
              "1                        0.0                        0.0   \n",
              "2                        0.0                        0.0   \n",
              "3                        0.0                        0.0   \n",
              "4                        0.0                        0.0   \n",
              "\n",
              "   OneHotEncoder__month_March  OneHotEncoder__month_May  \\\n",
              "0                         0.0                       0.0   \n",
              "1                         0.0                       0.0   \n",
              "2                         0.0                       0.0   \n",
              "3                         0.0                       0.0   \n",
              "4                         0.0                       0.0   \n",
              "\n",
              "   OneHotEncoder__month_November  OneHotEncoder__month_October  \\\n",
              "0                            0.0                           0.0   \n",
              "1                            0.0                           0.0   \n",
              "2                            0.0                           0.0   \n",
              "3                            0.0                           0.0   \n",
              "4                            0.0                           0.0   \n",
              "\n",
              "   OneHotEncoder__month_September  OneHotEncoder__weekday_Monday  \\\n",
              "0                             0.0                            0.0   \n",
              "1                             0.0                            0.0   \n",
              "2                             0.0                            0.0   \n",
              "3                             0.0                            0.0   \n",
              "4                             0.0                            0.0   \n",
              "\n",
              "   OneHotEncoder__weekday_Saturday  OneHotEncoder__weekday_Sunday  \\\n",
              "0                              0.0                            0.0   \n",
              "1                              0.0                            0.0   \n",
              "2                              0.0                            0.0   \n",
              "3                              1.0                            0.0   \n",
              "4                              0.0                            1.0   \n",
              "\n",
              "   OneHotEncoder__weekday_Thursday  OneHotEncoder__weekday_Tuesday  \\\n",
              "0                              0.0                             0.0   \n",
              "1                              1.0                             0.0   \n",
              "2                              0.0                             0.0   \n",
              "3                              0.0                             0.0   \n",
              "4                              0.0                             0.0   \n",
              "\n",
              "   OneHotEncoder__weekday_Wednesday  remainder__Temp  remainder__Feel_Temp  \\\n",
              "0                               1.0         8.175849              9.090375   \n",
              "1                               0.0         9.083466              8.625733   \n",
              "2                               0.0         1.229108              0.902035   \n",
              "3                               0.0         1.400000              1.969734   \n",
              "4                               0.0         2.666979              2.775690   \n",
              "\n",
              "   remainder__Hum  remainder__Wind  remainder__Casual  remainder__Registered  \\\n",
              "0        0.805833        10.749882              331.0                  654.0   \n",
              "1        0.696087       -16.652113              131.0                  670.0   \n",
              "2        0.437273        16.636703              120.0                 1229.0   \n",
              "3        0.590435        10.739832              108.0                 1454.0   \n",
              "4        0.436957        12.522300               82.0                 1518.0   \n",
              "\n",
              "   remainder__cnt  remainder__year  \n",
              "0           985.0           2020.0  \n",
              "1           801.0           2020.0  \n",
              "2          1349.0           2020.0  \n",
              "3          1562.0           2020.0  \n",
              "4          1600.0           2020.0  "
            ],
            "text/html": [
              "\n",
              "  <div id=\"df-7ddbbb81-60e9-4195-97f6-c7a04973e203\">\n",
              "    <div class=\"colab-df-container\">\n",
              "      <div>\n",
              "<style scoped>\n",
              "    .dataframe tbody tr th:only-of-type {\n",
              "        vertical-align: middle;\n",
              "    }\n",
              "\n",
              "    .dataframe tbody tr th {\n",
              "        vertical-align: top;\n",
              "    }\n",
              "\n",
              "    .dataframe thead th {\n",
              "        text-align: right;\n",
              "    }\n",
              "</style>\n",
              "<table border=\"1\" class=\"dataframe\">\n",
              "  <thead>\n",
              "    <tr style=\"text-align: right;\">\n",
              "      <th></th>\n",
              "      <th>OneHotEncoder__Season_Springer</th>\n",
              "      <th>OneHotEncoder__Season_Summer</th>\n",
              "      <th>OneHotEncoder__Season_Winter</th>\n",
              "      <th>OneHotEncoder__Holiday_True</th>\n",
              "      <th>OneHotEncoder__Weather_Other</th>\n",
              "      <th>OneHotEncoder__Weather_Rain</th>\n",
              "      <th>OneHotEncoder__month_August</th>\n",
              "      <th>OneHotEncoder__month_December</th>\n",
              "      <th>OneHotEncoder__month_February</th>\n",
              "      <th>OneHotEncoder__month_January</th>\n",
              "      <th>OneHotEncoder__month_July</th>\n",
              "      <th>OneHotEncoder__month_June</th>\n",
              "      <th>OneHotEncoder__month_March</th>\n",
              "      <th>OneHotEncoder__month_May</th>\n",
              "      <th>OneHotEncoder__month_November</th>\n",
              "      <th>OneHotEncoder__month_October</th>\n",
              "      <th>OneHotEncoder__month_September</th>\n",
              "      <th>OneHotEncoder__weekday_Monday</th>\n",
              "      <th>OneHotEncoder__weekday_Saturday</th>\n",
              "      <th>OneHotEncoder__weekday_Sunday</th>\n",
              "      <th>OneHotEncoder__weekday_Thursday</th>\n",
              "      <th>OneHotEncoder__weekday_Tuesday</th>\n",
              "      <th>OneHotEncoder__weekday_Wednesday</th>\n",
              "      <th>remainder__Temp</th>\n",
              "      <th>remainder__Feel_Temp</th>\n",
              "      <th>remainder__Hum</th>\n",
              "      <th>remainder__Wind</th>\n",
              "      <th>remainder__Casual</th>\n",
              "      <th>remainder__Registered</th>\n",
              "      <th>remainder__cnt</th>\n",
              "      <th>remainder__year</th>\n",
              "    </tr>\n",
              "  </thead>\n",
              "  <tbody>\n",
              "    <tr>\n",
              "      <th>0</th>\n",
              "      <td>1.0</td>\n",
              "      <td>0.0</td>\n",
              "      <td>0.0</td>\n",
              "      <td>0.0</td>\n",
              "      <td>0.0</td>\n",
              "      <td>0.0</td>\n",
              "      <td>0.0</td>\n",
              "      <td>0.0</td>\n",
              "      <td>0.0</td>\n",
              "      <td>1.0</td>\n",
              "      <td>0.0</td>\n",
              "      <td>0.0</td>\n",
              "      <td>0.0</td>\n",
              "      <td>0.0</td>\n",
              "      <td>0.0</td>\n",
              "      <td>0.0</td>\n",
              "      <td>0.0</td>\n",
              "      <td>0.0</td>\n",
              "      <td>0.0</td>\n",
              "      <td>0.0</td>\n",
              "      <td>0.0</td>\n",
              "      <td>0.0</td>\n",
              "      <td>1.0</td>\n",
              "      <td>8.175849</td>\n",
              "      <td>9.090375</td>\n",
              "      <td>0.805833</td>\n",
              "      <td>10.749882</td>\n",
              "      <td>331.0</td>\n",
              "      <td>654.0</td>\n",
              "      <td>985.0</td>\n",
              "      <td>2020.0</td>\n",
              "    </tr>\n",
              "    <tr>\n",
              "      <th>1</th>\n",
              "      <td>1.0</td>\n",
              "      <td>0.0</td>\n",
              "      <td>0.0</td>\n",
              "      <td>0.0</td>\n",
              "      <td>0.0</td>\n",
              "      <td>0.0</td>\n",
              "      <td>0.0</td>\n",
              "      <td>0.0</td>\n",
              "      <td>0.0</td>\n",
              "      <td>1.0</td>\n",
              "      <td>0.0</td>\n",
              "      <td>0.0</td>\n",
              "      <td>0.0</td>\n",
              "      <td>0.0</td>\n",
              "      <td>0.0</td>\n",
              "      <td>0.0</td>\n",
              "      <td>0.0</td>\n",
              "      <td>0.0</td>\n",
              "      <td>0.0</td>\n",
              "      <td>0.0</td>\n",
              "      <td>1.0</td>\n",
              "      <td>0.0</td>\n",
              "      <td>0.0</td>\n",
              "      <td>9.083466</td>\n",
              "      <td>8.625733</td>\n",
              "      <td>0.696087</td>\n",
              "      <td>-16.652113</td>\n",
              "      <td>131.0</td>\n",
              "      <td>670.0</td>\n",
              "      <td>801.0</td>\n",
              "      <td>2020.0</td>\n",
              "    </tr>\n",
              "    <tr>\n",
              "      <th>2</th>\n",
              "      <td>1.0</td>\n",
              "      <td>0.0</td>\n",
              "      <td>0.0</td>\n",
              "      <td>0.0</td>\n",
              "      <td>1.0</td>\n",
              "      <td>0.0</td>\n",
              "      <td>0.0</td>\n",
              "      <td>0.0</td>\n",
              "      <td>0.0</td>\n",
              "      <td>1.0</td>\n",
              "      <td>0.0</td>\n",
              "      <td>0.0</td>\n",
              "      <td>0.0</td>\n",
              "      <td>0.0</td>\n",
              "      <td>0.0</td>\n",
              "      <td>0.0</td>\n",
              "      <td>0.0</td>\n",
              "      <td>0.0</td>\n",
              "      <td>0.0</td>\n",
              "      <td>0.0</td>\n",
              "      <td>0.0</td>\n",
              "      <td>0.0</td>\n",
              "      <td>0.0</td>\n",
              "      <td>1.229108</td>\n",
              "      <td>0.902035</td>\n",
              "      <td>0.437273</td>\n",
              "      <td>16.636703</td>\n",
              "      <td>120.0</td>\n",
              "      <td>1229.0</td>\n",
              "      <td>1349.0</td>\n",
              "      <td>2020.0</td>\n",
              "    </tr>\n",
              "    <tr>\n",
              "      <th>3</th>\n",
              "      <td>1.0</td>\n",
              "      <td>0.0</td>\n",
              "      <td>0.0</td>\n",
              "      <td>0.0</td>\n",
              "      <td>1.0</td>\n",
              "      <td>0.0</td>\n",
              "      <td>0.0</td>\n",
              "      <td>0.0</td>\n",
              "      <td>0.0</td>\n",
              "      <td>1.0</td>\n",
              "      <td>0.0</td>\n",
              "      <td>0.0</td>\n",
              "      <td>0.0</td>\n",
              "      <td>0.0</td>\n",
              "      <td>0.0</td>\n",
              "      <td>0.0</td>\n",
              "      <td>0.0</td>\n",
              "      <td>0.0</td>\n",
              "      <td>1.0</td>\n",
              "      <td>0.0</td>\n",
              "      <td>0.0</td>\n",
              "      <td>0.0</td>\n",
              "      <td>0.0</td>\n",
              "      <td>1.400000</td>\n",
              "      <td>1.969734</td>\n",
              "      <td>0.590435</td>\n",
              "      <td>10.739832</td>\n",
              "      <td>108.0</td>\n",
              "      <td>1454.0</td>\n",
              "      <td>1562.0</td>\n",
              "      <td>2020.0</td>\n",
              "    </tr>\n",
              "    <tr>\n",
              "      <th>4</th>\n",
              "      <td>1.0</td>\n",
              "      <td>0.0</td>\n",
              "      <td>0.0</td>\n",
              "      <td>0.0</td>\n",
              "      <td>1.0</td>\n",
              "      <td>0.0</td>\n",
              "      <td>0.0</td>\n",
              "      <td>0.0</td>\n",
              "      <td>0.0</td>\n",
              "      <td>1.0</td>\n",
              "      <td>0.0</td>\n",
              "      <td>0.0</td>\n",
              "      <td>0.0</td>\n",
              "      <td>0.0</td>\n",
              "      <td>0.0</td>\n",
              "      <td>0.0</td>\n",
              "      <td>0.0</td>\n",
              "      <td>0.0</td>\n",
              "      <td>0.0</td>\n",
              "      <td>1.0</td>\n",
              "      <td>0.0</td>\n",
              "      <td>0.0</td>\n",
              "      <td>0.0</td>\n",
              "      <td>2.666979</td>\n",
              "      <td>2.775690</td>\n",
              "      <td>0.436957</td>\n",
              "      <td>12.522300</td>\n",
              "      <td>82.0</td>\n",
              "      <td>1518.0</td>\n",
              "      <td>1600.0</td>\n",
              "      <td>2020.0</td>\n",
              "    </tr>\n",
              "  </tbody>\n",
              "</table>\n",
              "</div>\n",
              "      <button class=\"colab-df-convert\" onclick=\"convertToInteractive('df-7ddbbb81-60e9-4195-97f6-c7a04973e203')\"\n",
              "              title=\"Convert this dataframe to an interactive table.\"\n",
              "              style=\"display:none;\">\n",
              "        \n",
              "  <svg xmlns=\"http://www.w3.org/2000/svg\" height=\"24px\"viewBox=\"0 0 24 24\"\n",
              "       width=\"24px\">\n",
              "    <path d=\"M0 0h24v24H0V0z\" fill=\"none\"/>\n",
              "    <path d=\"M18.56 5.44l.94 2.06.94-2.06 2.06-.94-2.06-.94-.94-2.06-.94 2.06-2.06.94zm-11 1L8.5 8.5l.94-2.06 2.06-.94-2.06-.94L8.5 2.5l-.94 2.06-2.06.94zm10 10l.94 2.06.94-2.06 2.06-.94-2.06-.94-.94-2.06-.94 2.06-2.06.94z\"/><path d=\"M17.41 7.96l-1.37-1.37c-.4-.4-.92-.59-1.43-.59-.52 0-1.04.2-1.43.59L10.3 9.45l-7.72 7.72c-.78.78-.78 2.05 0 2.83L4 21.41c.39.39.9.59 1.41.59.51 0 1.02-.2 1.41-.59l7.78-7.78 2.81-2.81c.8-.78.8-2.07 0-2.86zM5.41 20L4 18.59l7.72-7.72 1.47 1.35L5.41 20z\"/>\n",
              "  </svg>\n",
              "      </button>\n",
              "      \n",
              "  <style>\n",
              "    .colab-df-container {\n",
              "      display:flex;\n",
              "      flex-wrap:wrap;\n",
              "      gap: 12px;\n",
              "    }\n",
              "\n",
              "    .colab-df-convert {\n",
              "      background-color: #E8F0FE;\n",
              "      border: none;\n",
              "      border-radius: 50%;\n",
              "      cursor: pointer;\n",
              "      display: none;\n",
              "      fill: #1967D2;\n",
              "      height: 32px;\n",
              "      padding: 0 0 0 0;\n",
              "      width: 32px;\n",
              "    }\n",
              "\n",
              "    .colab-df-convert:hover {\n",
              "      background-color: #E2EBFA;\n",
              "      box-shadow: 0px 1px 2px rgba(60, 64, 67, 0.3), 0px 1px 3px 1px rgba(60, 64, 67, 0.15);\n",
              "      fill: #174EA6;\n",
              "    }\n",
              "\n",
              "    [theme=dark] .colab-df-convert {\n",
              "      background-color: #3B4455;\n",
              "      fill: #D2E3FC;\n",
              "    }\n",
              "\n",
              "    [theme=dark] .colab-df-convert:hover {\n",
              "      background-color: #434B5C;\n",
              "      box-shadow: 0px 1px 3px 1px rgba(0, 0, 0, 0.15);\n",
              "      filter: drop-shadow(0px 1px 2px rgba(0, 0, 0, 0.3));\n",
              "      fill: #FFFFFF;\n",
              "    }\n",
              "  </style>\n",
              "\n",
              "      <script>\n",
              "        const buttonEl =\n",
              "          document.querySelector('#df-7ddbbb81-60e9-4195-97f6-c7a04973e203 button.colab-df-convert');\n",
              "        buttonEl.style.display =\n",
              "          google.colab.kernel.accessAllowed ? 'block' : 'none';\n",
              "\n",
              "        async function convertToInteractive(key) {\n",
              "          const element = document.querySelector('#df-7ddbbb81-60e9-4195-97f6-c7a04973e203');\n",
              "          const dataTable =\n",
              "            await google.colab.kernel.invokeFunction('convertToInteractive',\n",
              "                                                     [key], {});\n",
              "          if (!dataTable) return;\n",
              "\n",
              "          const docLinkHtml = 'Like what you see? Visit the ' +\n",
              "            '<a target=\"_blank\" href=https://colab.research.google.com/notebooks/data_table.ipynb>data table notebook</a>'\n",
              "            + ' to learn more about interactive tables.';\n",
              "          element.innerHTML = '';\n",
              "          dataTable['output_type'] = 'display_data';\n",
              "          await google.colab.output.renderOutput(dataTable, element);\n",
              "          const docLink = document.createElement('div');\n",
              "          docLink.innerHTML = docLinkHtml;\n",
              "          element.appendChild(docLink);\n",
              "        }\n",
              "      </script>\n",
              "    </div>\n",
              "  </div>\n",
              "  "
            ]
          },
          "metadata": {},
          "execution_count": 28
        }
      ]
    },
    {
      "cell_type": "code",
      "source": [
        "# Imprimo la cantidad de registros y columnas del nuevo dataframe\n",
        "df2.shape"
      ],
      "metadata": {
        "colab": {
          "base_uri": "https://localhost:8080/"
        },
        "id": "Dn8p4H9nZ0Gu",
        "outputId": "5104fa91-1326-4cb9-cb3f-cfb3cd280a9f"
      },
      "execution_count": 29,
      "outputs": [
        {
          "output_type": "execute_result",
          "data": {
            "text/plain": [
              "(731, 31)"
            ]
          },
          "metadata": {},
          "execution_count": 29
        }
      ]
    },
    {
      "cell_type": "markdown",
      "source": [
        "Pasamos de tener 13 columnas a trabajar con 31"
      ],
      "metadata": {
        "id": "TRl0dz9VWu8F"
      }
    },
    {
      "cell_type": "code",
      "source": [
        "# La variable dependiente sera 'cnt', las demas serán independientes\n",
        "x = df2.drop('remainder__cnt', axis=1)\n",
        "y = df2['remainder__cnt']"
      ],
      "metadata": {
        "id": "zLpFIpveVn5R"
      },
      "execution_count": 30,
      "outputs": []
    },
    {
      "cell_type": "code",
      "source": [
        "# Reviso la distribución de la variable dependiente (target)\n",
        "df2['remainder__cnt'].describe(percentiles = [.25, .5, .75, .99])"
      ],
      "metadata": {
        "colab": {
          "base_uri": "https://localhost:8080/"
        },
        "id": "5De_WGgze4fh",
        "outputId": "68283abc-3398-49eb-853e-1ec2acc9ef50"
      },
      "execution_count": 31,
      "outputs": [
        {
          "output_type": "execute_result",
          "data": {
            "text/plain": [
              "count     731.000000\n",
              "mean     4504.348837\n",
              "std      1937.211452\n",
              "min        22.000000\n",
              "25%      3152.000000\n",
              "50%      4548.000000\n",
              "75%      5956.000000\n",
              "99%      8163.700000\n",
              "max      8714.000000\n",
              "Name: remainder__cnt, dtype: float64"
            ]
          },
          "metadata": {},
          "execution_count": 31
        }
      ]
    },
    {
      "cell_type": "code",
      "source": [
        "# Se divide el dataset en entrenamiento y prueba, donde entrenamiento tendrá el 80% de los datos\n",
        "from sklearn.model_selection import train_test_split\n",
        "\n",
        "x_train, x_test, y_train, y_test = train_test_split(x, y, test_size=0.20, random_state=1)\n",
        "\n",
        "print(f'Train: {x_train.shape}')\n",
        "print(f'Test: {x_test.shape}')\n",
        "\n",
        "# Se estandariza el dataset usando 'StandarScaler'\n",
        "name_columns = x_train.columns\n",
        "\n",
        "from sklearn.preprocessing import StandardScaler\n",
        "\n",
        "sc = StandardScaler()\n",
        "x_train = sc.fit_transform(x_train.values) # Solo para datos de entrenamiento se utiliza \"fit_transform\"\n",
        "x_test = sc.transform(x_test.values)\n",
        "\n",
        "# Los datos se transforman a dataframes para mayor comodidad\n",
        "x_train = pd.DataFrame(data=x_train, columns=name_columns)\n",
        "x_test = pd.DataFrame(data=x_test, columns=name_columns)"
      ],
      "metadata": {
        "colab": {
          "base_uri": "https://localhost:8080/"
        },
        "id": "n90k54OEWYC_",
        "outputId": "01f09a98-05ce-45e7-bebd-3f991afade84"
      },
      "execution_count": 32,
      "outputs": [
        {
          "output_type": "stream",
          "name": "stdout",
          "text": [
            "Train: (584, 30)\n",
            "Test: (147, 30)\n"
          ]
        }
      ]
    },
    {
      "cell_type": "markdown",
      "source": [
        "### Regresión lineal simple"
      ],
      "metadata": {
        "id": "ui-jjZ7MSyaf"
      }
    },
    {
      "cell_type": "code",
      "source": [
        "# Se realiza el entrenamiento del modelo\n",
        "from sklearn.linear_model import LinearRegression\n",
        "\n",
        "simple_linear_regression = LinearRegression()\n",
        "simple_linear_regression.fit(x_train, y_train)\n",
        "\n",
        "# Se predicen los datos\n",
        "y_pred_train = simple_linear_regression.predict(x_train)\n",
        "y_pred_test = simple_linear_regression.predict(x_test)\n",
        "\n",
        "# Se imprimen los valores de los coeficientes. Los que tengan una magnitud más\n",
        "# grande son los que influyen más en la desición de la predicción\n",
        "print(simple_linear_regression.feature_names_in_)\n",
        "print(simple_linear_regression.coef_)"
      ],
      "metadata": {
        "colab": {
          "base_uri": "https://localhost:8080/"
        },
        "id": "a0rEOBPTXqxE",
        "outputId": "f0feada5-e343-48c0-8521-5882d149c149"
      },
      "execution_count": 33,
      "outputs": [
        {
          "output_type": "stream",
          "name": "stdout",
          "text": [
            "['OneHotEncoder__Season_Springer' 'OneHotEncoder__Season_Summer'\n",
            " 'OneHotEncoder__Season_Winter' 'OneHotEncoder__Holiday_True'\n",
            " 'OneHotEncoder__Weather_Other' 'OneHotEncoder__Weather_Rain'\n",
            " 'OneHotEncoder__month_August' 'OneHotEncoder__month_December'\n",
            " 'OneHotEncoder__month_February' 'OneHotEncoder__month_January'\n",
            " 'OneHotEncoder__month_July' 'OneHotEncoder__month_June'\n",
            " 'OneHotEncoder__month_March' 'OneHotEncoder__month_May'\n",
            " 'OneHotEncoder__month_November' 'OneHotEncoder__month_October'\n",
            " 'OneHotEncoder__month_September' 'OneHotEncoder__weekday_Monday'\n",
            " 'OneHotEncoder__weekday_Saturday' 'OneHotEncoder__weekday_Sunday'\n",
            " 'OneHotEncoder__weekday_Thursday' 'OneHotEncoder__weekday_Tuesday'\n",
            " 'OneHotEncoder__weekday_Wednesday' 'remainder__Temp'\n",
            " 'remainder__Feel_Temp' 'remainder__Hum' 'remainder__Wind'\n",
            " 'remainder__Casual' 'remainder__Registered' 'remainder__year']\n",
            "[-1.17182867e-12 -3.41060513e-13  3.27462726e-13 -1.75885007e-13\n",
            "  4.14802378e-13 -3.39160745e-13  7.99016046e-13 -3.82534444e-13\n",
            " -4.38718518e-13 -6.32194472e-13  6.78469397e-13  6.12104007e-13\n",
            " -3.19583341e-14  3.74311790e-13 -1.97497636e-13 -2.56250142e-13\n",
            "  4.37743264e-13 -3.96127575e-13 -6.56585897e-13 -1.18127730e-13\n",
            "  1.52766688e-13 -4.64517314e-13  1.92290628e-13 -4.54747351e-13\n",
            " -1.42108547e-13  5.32907052e-14 -3.55271368e-14  6.93946014e+02\n",
            "  1.54938560e+03  3.66817687e-13]\n"
          ]
        }
      ]
    },
    {
      "cell_type": "markdown",
      "source": [
        "Los valores más grandes son los que están ubicados en las posiciones 13, 26 y 27 que corresponden a los features 'Mes: Marzo', 'Hum' y 'Wind' respectivamente.\n",
        "\n",
        "Estos son los que influyen más en la predicción."
      ],
      "metadata": {
        "id": "EIYGrso2asCk"
      }
    },
    {
      "cell_type": "code",
      "source": [
        "# Encuentro la raíz del error cuadrático medio (RMSE) para datos de train y de test\n",
        "from sklearn.metrics import mean_squared_error\n",
        "\n",
        "lr_train_rmse = np.sqrt(mean_squared_error(y_train, y_pred_train))\n",
        "lr_test_rmse = np.sqrt(mean_squared_error(y_test, y_pred_test))\n",
        "print(f'LinearRegression train RMSE: {lr_train_rmse}')\n",
        "print(f'LinearRegression test RMSE: {lr_test_rmse}')"
      ],
      "metadata": {
        "colab": {
          "base_uri": "https://localhost:8080/"
        },
        "id": "7Yoo-hbEbIaN",
        "outputId": "ea89a0f3-5774-492d-8ea8-aa60617ec794"
      },
      "execution_count": 34,
      "outputs": [
        {
          "output_type": "stream",
          "name": "stdout",
          "text": [
            "LinearRegression train RMSE: 1.9964378567754444e-12\n",
            "LinearRegression test RMSE: 2.128993220292346e-12\n"
          ]
        }
      ]
    },
    {
      "cell_type": "markdown",
      "source": [
        "### Gradiente descendiente con función de regularización"
      ],
      "metadata": {
        "id": "gTcWBxsskuk1"
      }
    },
    {
      "cell_type": "code",
      "source": [
        "# Se realiza el entrenamiento del modelo con función de regularización L1\n",
        "from sklearn.linear_model import SGDRegressor\n",
        "\n",
        "sgd_l1_regressor = SGDRegressor(penalty='l1')\n",
        "sgd_l1_regressor.fit(x_train, y_train)\n",
        "\n",
        "# Se predicen los datos\n",
        "y_pred_train = sgd_l1_regressor.predict(x_train)\n",
        "y_pred_test = sgd_l1_regressor.predict(x_test)\n",
        "\n",
        "# Encuentro la raíz del error cuadrático medio (RMSE) para datos de train y de test\n",
        "sgd_l1_train_rmse = np.sqrt(mean_squared_error(y_train, y_pred_train))\n",
        "sgd_l1_test_rmse = np.sqrt(mean_squared_error(y_test, y_pred_test))\n",
        "print(f'SGDRegressor L1 train RMSE: {sgd_l1_train_rmse}')\n",
        "print(f'SGDRegressor L1 test RMSE: {sgd_l1_test_rmse}')"
      ],
      "metadata": {
        "colab": {
          "base_uri": "https://localhost:8080/"
        },
        "id": "TFMyhnYWk0X2",
        "outputId": "e450efa0-efd9-4f27-d114-eaa040876468"
      },
      "execution_count": 35,
      "outputs": [
        {
          "output_type": "stream",
          "name": "stdout",
          "text": [
            "SGDRegressor L1 train RMSE: 0.3030766612035351\n",
            "SGDRegressor L1 test RMSE: 0.3245606663459617\n"
          ]
        }
      ]
    },
    {
      "cell_type": "markdown",
      "source": [
        "### Transformación polinomial"
      ],
      "metadata": {
        "id": "4SrFcXb2ge4W"
      }
    },
    {
      "cell_type": "code",
      "source": [
        "# Polinomio con 2 grados\n",
        "from sklearn.preprocessing import PolynomialFeatures\n",
        "\n",
        "poly_features = PolynomialFeatures(degree=2, include_bias=False)\n",
        "x_poly = poly_features.fit_transform(x)"
      ],
      "metadata": {
        "id": "FCBUw1scgoLN"
      },
      "execution_count": 36,
      "outputs": []
    },
    {
      "cell_type": "code",
      "source": [
        "# Obtener variable dependiente y variables independientes\n",
        "x_train, x_test, y_train, y_test = train_test_split(x_poly, y, test_size=0.20, random_state=1)\n",
        "\n",
        "print(f'Train: {x_train.shape}')\n",
        "print(f'Test: {x_test.shape}')\n",
        "\n",
        "# Se estandariza el dataset usando 'StandarScaler'\n",
        "sc = StandardScaler()\n",
        "x_train = sc.fit_transform(x_train) # Solo para datos de entrenamiento se utiliza \"fit_transform\"\n",
        "x_test = sc.transform(x_test)"
      ],
      "metadata": {
        "colab": {
          "base_uri": "https://localhost:8080/"
        },
        "id": "rjTjaRkbgrdY",
        "outputId": "b1b77e26-eebc-4ecd-bacd-9099abb71fe5"
      },
      "execution_count": 37,
      "outputs": [
        {
          "output_type": "stream",
          "name": "stdout",
          "text": [
            "Train: (584, 495)\n",
            "Test: (147, 495)\n"
          ]
        }
      ]
    },
    {
      "cell_type": "markdown",
      "source": [
        "El número de features aumentó a 495."
      ],
      "metadata": {
        "id": "8bp_WVvFguS_"
      }
    },
    {
      "cell_type": "code",
      "source": [
        "# Se realiza el entrenamiento del modelo sin función de regularización\n",
        "from sklearn.linear_model import SGDRegressor\n",
        "\n",
        "sgd_poly2_regressor = SGDRegressor(penalty=None)\n",
        "sgd_poly2_regressor.fit(x_train, y_train)\n",
        "\n",
        "# Se predicen los datos\n",
        "y_pred_train = sgd_poly2_regressor.predict(x_train)\n",
        "y_pred_test = sgd_poly2_regressor.predict(x_test)\n",
        "\n",
        "# Encuentro la raíz del error cuadrático medio (RMSE) para datos de train y de test\n",
        "sgd_poly2_train_rmse = np.sqrt(mean_squared_error(y_train, y_pred_train))\n",
        "sgd_poly2_test_rmse = np.sqrt(mean_squared_error(y_test, y_pred_test))\n",
        "print(f'SGDRegressor Poly2 train RMSE: {sgd_poly2_train_rmse}')\n",
        "print(f'SGDRegressor Poly2 test RMSE: {sgd_poly2_test_rmse}')"
      ],
      "metadata": {
        "colab": {
          "base_uri": "https://localhost:8080/"
        },
        "id": "tPiEPcQKg4QJ",
        "outputId": "17a65124-bbe4-4625-cbeb-99d80b0dac0f"
      },
      "execution_count": 38,
      "outputs": [
        {
          "output_type": "stream",
          "name": "stdout",
          "text": [
            "SGDRegressor Poly2 train RMSE: 93097534.30761978\n",
            "SGDRegressor Poly2 test RMSE: 201861638.5798711\n"
          ]
        }
      ]
    },
    {
      "cell_type": "markdown",
      "source": [
        "## Conclusiones"
      ],
      "metadata": {
        "id": "w5SbNtCIlXsm"
      }
    },
    {
      "cell_type": "markdown",
      "source": [
        "1. El mejor modelo es el realizado con regresión lineal, la razón es por que el RMSE encontrado es el menor de los 3 modelos y es muy cercano a 0.\n",
        "2. La regresión con gradiente descendente y sin función de regularizacón arrojó un RMSE pequeño y cercano a 0, sin embargo, al compararlo con el RMSE de la regresión lineal este le sigue ganando.\n",
        "3. Al aplicar los modelos con transformación polinomial y gradiente descendente sin función de regularización el RMSE no mejora. Esto sucede por que el modelo no tiene overfitting.\n"
      ],
      "metadata": {
        "id": "eHglO5LmlbFR"
      }
    },
    {
      "cell_type": "markdown",
      "source": [
        "## Respuestas a las preguntas"
      ],
      "metadata": {
        "id": "Zzg7D0MTurNs"
      }
    },
    {
      "cell_type": "markdown",
      "source": [
        "¿Cuáles son las 3 variables más importantes para la predicción de la cantidad de usuarios?\n",
        "\n",
        "Rta/ Los features que más influyen en la predicción son 'Mes: Marzo', 'Hum' y 'Wind'. Sus magnitudes son las más grandes."
      ],
      "metadata": {
        "id": "odQUKLmNuzXh"
      }
    },
    {
      "cell_type": "markdown",
      "source": [
        "Describa cual es el escenario ideal para el incremento de usuarios.\n",
        "\n",
        "Rta/ El escenario ideal para contar con más usuarios es evitar hacer campañas al final del año e inicios del año ya que no hay muchos usuarios que arrienden patinetas. También hacer enfasis en los meses del año donde las condiciones de humedad y viento son favorables, por ejemplo: mitad de año en verano. Los usuarios no tienen una preferencia marcada por el día de la semana que usan la patineta, así que está bien hacer promociones todos los días."
      ],
      "metadata": {
        "id": "HaNNSCzWu2BB"
      }
    },
    {
      "cell_type": "markdown",
      "source": [
        "¿Qué pasos adicionales deberían tener en cuenta para una próxima iteración/mejora del modelo?\n",
        "\n",
        "Rta/ Se puede considerar:\n",
        "1. Tener más datos de entrenamiento y de test.\n",
        "2. Contar con más features, por ejemplo: Género del usuario, medio de pago utilizado, duración promedio de los trayectos, etc.\n",
        "3. Contar en lo posible con la menor cantidad de nulos y datos vacíos."
      ],
      "metadata": {
        "id": "Ren2Kujhu-LF"
      }
    }
  ]
}